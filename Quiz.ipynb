{
 "cells": [
  {
   "cell_type": "code",
   "execution_count": 14,
   "id": "dd4c3dbf",
   "metadata": {},
   "outputs": [],
   "source": [
    "import pandas as pd\n",
    "import numpy as np\n",
    "import seaborn as sns\n",
    "from matplotlib import pyplot as plt\n",
    "from sklearn import preprocessing\n",
    "\n",
    "\n",
    "import warnings\n",
    "warnings.filterwarnings('ignore')"
   ]
  },
  {
   "cell_type": "code",
   "execution_count": 15,
   "id": "c93b17f3",
   "metadata": {},
   "outputs": [],
   "source": [
    "df1 = pd.read_csv('cardio_alco.csv')"
   ]
  },
  {
   "cell_type": "code",
   "execution_count": 16,
   "id": "043b05c0",
   "metadata": {},
   "outputs": [
    {
     "data": {
      "text/html": [
       "<div>\n",
       "<style scoped>\n",
       "    .dataframe tbody tr th:only-of-type {\n",
       "        vertical-align: middle;\n",
       "    }\n",
       "\n",
       "    .dataframe tbody tr th {\n",
       "        vertical-align: top;\n",
       "    }\n",
       "\n",
       "    .dataframe thead th {\n",
       "        text-align: right;\n",
       "    }\n",
       "</style>\n",
       "<table border=\"1\" class=\"dataframe\">\n",
       "  <thead>\n",
       "    <tr style=\"text-align: right;\">\n",
       "      <th></th>\n",
       "      <th>id;alco</th>\n",
       "    </tr>\n",
       "  </thead>\n",
       "  <tbody>\n",
       "    <tr>\n",
       "      <th>0</th>\n",
       "      <td>44;0</td>\n",
       "    </tr>\n",
       "    <tr>\n",
       "      <th>1</th>\n",
       "      <td>45;0</td>\n",
       "    </tr>\n",
       "    <tr>\n",
       "      <th>2</th>\n",
       "      <td>46;0</td>\n",
       "    </tr>\n",
       "    <tr>\n",
       "      <th>3</th>\n",
       "      <td>47;0</td>\n",
       "    </tr>\n",
       "    <tr>\n",
       "      <th>4</th>\n",
       "      <td>49;0</td>\n",
       "    </tr>\n",
       "  </tbody>\n",
       "</table>\n",
       "</div>"
      ],
      "text/plain": [
       "  id;alco\n",
       "0    44;0\n",
       "1    45;0\n",
       "2    46;0\n",
       "3    47;0\n",
       "4    49;0"
      ]
     },
     "execution_count": 16,
     "metadata": {},
     "output_type": "execute_result"
    }
   ],
   "source": [
    "df1.head(5)"
   ]
  },
  {
   "cell_type": "code",
   "execution_count": 17,
   "id": "59efe0c9",
   "metadata": {},
   "outputs": [
    {
     "name": "stdout",
     "output_type": "stream",
     "text": [
      "<class 'pandas.core.frame.DataFrame'>\n",
      "RangeIndex: 56903 entries, 0 to 56902\n",
      "Data columns (total 1 columns):\n",
      " #   Column   Non-Null Count  Dtype \n",
      "---  ------   --------------  ----- \n",
      " 0   id;alco  56903 non-null  object\n",
      "dtypes: object(1)\n",
      "memory usage: 444.7+ KB\n"
     ]
    }
   ],
   "source": [
    "df1.info()"
   ]
  },
  {
   "cell_type": "code",
   "execution_count": 18,
   "id": "ae437945",
   "metadata": {},
   "outputs": [
    {
     "data": {
      "text/html": [
       "<div>\n",
       "<style scoped>\n",
       "    .dataframe tbody tr th:only-of-type {\n",
       "        vertical-align: middle;\n",
       "    }\n",
       "\n",
       "    .dataframe tbody tr th {\n",
       "        vertical-align: top;\n",
       "    }\n",
       "\n",
       "    .dataframe thead th {\n",
       "        text-align: right;\n",
       "    }\n",
       "</style>\n",
       "<table border=\"1\" class=\"dataframe\">\n",
       "  <thead>\n",
       "    <tr style=\"text-align: right;\">\n",
       "      <th></th>\n",
       "      <th>id;alco</th>\n",
       "    </tr>\n",
       "  </thead>\n",
       "  <tbody>\n",
       "    <tr>\n",
       "      <th>count</th>\n",
       "      <td>56903</td>\n",
       "    </tr>\n",
       "    <tr>\n",
       "      <th>unique</th>\n",
       "      <td>56903</td>\n",
       "    </tr>\n",
       "    <tr>\n",
       "      <th>top</th>\n",
       "      <td>44;0</td>\n",
       "    </tr>\n",
       "    <tr>\n",
       "      <th>freq</th>\n",
       "      <td>1</td>\n",
       "    </tr>\n",
       "  </tbody>\n",
       "</table>\n",
       "</div>"
      ],
      "text/plain": [
       "       id;alco\n",
       "count    56903\n",
       "unique   56903\n",
       "top       44;0\n",
       "freq         1"
      ]
     },
     "execution_count": 18,
     "metadata": {},
     "output_type": "execute_result"
    }
   ],
   "source": [
    "df1.describe()"
   ]
  },
  {
   "cell_type": "code",
   "execution_count": 19,
   "id": "440fac98",
   "metadata": {},
   "outputs": [],
   "source": [
    "# Split the 'id;alco' column into two columns\n",
    "df1[['id', 'alco']] = df1['id;alco'].str.split(';', expand=True)\n"
   ]
  },
  {
   "cell_type": "code",
   "execution_count": 20,
   "id": "d04395cf",
   "metadata": {},
   "outputs": [
    {
     "data": {
      "text/html": [
       "<div>\n",
       "<style scoped>\n",
       "    .dataframe tbody tr th:only-of-type {\n",
       "        vertical-align: middle;\n",
       "    }\n",
       "\n",
       "    .dataframe tbody tr th {\n",
       "        vertical-align: top;\n",
       "    }\n",
       "\n",
       "    .dataframe thead th {\n",
       "        text-align: right;\n",
       "    }\n",
       "</style>\n",
       "<table border=\"1\" class=\"dataframe\">\n",
       "  <thead>\n",
       "    <tr style=\"text-align: right;\">\n",
       "      <th></th>\n",
       "      <th>id;alco</th>\n",
       "      <th>id</th>\n",
       "      <th>alco</th>\n",
       "    </tr>\n",
       "  </thead>\n",
       "  <tbody>\n",
       "    <tr>\n",
       "      <th>0</th>\n",
       "      <td>44;0</td>\n",
       "      <td>44</td>\n",
       "      <td>0</td>\n",
       "    </tr>\n",
       "    <tr>\n",
       "      <th>1</th>\n",
       "      <td>45;0</td>\n",
       "      <td>45</td>\n",
       "      <td>0</td>\n",
       "    </tr>\n",
       "    <tr>\n",
       "      <th>2</th>\n",
       "      <td>46;0</td>\n",
       "      <td>46</td>\n",
       "      <td>0</td>\n",
       "    </tr>\n",
       "    <tr>\n",
       "      <th>3</th>\n",
       "      <td>47;0</td>\n",
       "      <td>47</td>\n",
       "      <td>0</td>\n",
       "    </tr>\n",
       "    <tr>\n",
       "      <th>4</th>\n",
       "      <td>49;0</td>\n",
       "      <td>49</td>\n",
       "      <td>0</td>\n",
       "    </tr>\n",
       "  </tbody>\n",
       "</table>\n",
       "</div>"
      ],
      "text/plain": [
       "  id;alco  id alco\n",
       "0    44;0  44    0\n",
       "1    45;0  45    0\n",
       "2    46;0  46    0\n",
       "3    47;0  47    0\n",
       "4    49;0  49    0"
      ]
     },
     "execution_count": 20,
     "metadata": {},
     "output_type": "execute_result"
    }
   ],
   "source": [
    "df1.head(5)"
   ]
  },
  {
   "cell_type": "code",
   "execution_count": 21,
   "id": "f66cbc2b",
   "metadata": {},
   "outputs": [],
   "source": [
    "# Drop the original 'id;alco' column\n",
    "df1 = df1.drop(columns=['id;alco'])"
   ]
  },
  {
   "cell_type": "code",
   "execution_count": 24,
   "id": "75d9d31b",
   "metadata": {},
   "outputs": [
    {
     "data": {
      "text/html": [
       "<div>\n",
       "<style scoped>\n",
       "    .dataframe tbody tr th:only-of-type {\n",
       "        vertical-align: middle;\n",
       "    }\n",
       "\n",
       "    .dataframe tbody tr th {\n",
       "        vertical-align: top;\n",
       "    }\n",
       "\n",
       "    .dataframe thead th {\n",
       "        text-align: right;\n",
       "    }\n",
       "</style>\n",
       "<table border=\"1\" class=\"dataframe\">\n",
       "  <thead>\n",
       "    <tr style=\"text-align: right;\">\n",
       "      <th></th>\n",
       "      <th>id</th>\n",
       "      <th>alco</th>\n",
       "    </tr>\n",
       "  </thead>\n",
       "  <tbody>\n",
       "    <tr>\n",
       "      <th>0</th>\n",
       "      <td>44</td>\n",
       "      <td>0</td>\n",
       "    </tr>\n",
       "    <tr>\n",
       "      <th>1</th>\n",
       "      <td>45</td>\n",
       "      <td>0</td>\n",
       "    </tr>\n",
       "    <tr>\n",
       "      <th>2</th>\n",
       "      <td>46</td>\n",
       "      <td>0</td>\n",
       "    </tr>\n",
       "    <tr>\n",
       "      <th>3</th>\n",
       "      <td>47</td>\n",
       "      <td>0</td>\n",
       "    </tr>\n",
       "    <tr>\n",
       "      <th>4</th>\n",
       "      <td>49</td>\n",
       "      <td>0</td>\n",
       "    </tr>\n",
       "  </tbody>\n",
       "</table>\n",
       "</div>"
      ],
      "text/plain": [
       "   id alco\n",
       "0  44    0\n",
       "1  45    0\n",
       "2  46    0\n",
       "3  47    0\n",
       "4  49    0"
      ]
     },
     "execution_count": 24,
     "metadata": {},
     "output_type": "execute_result"
    }
   ],
   "source": [
    "df1.head(5)"
   ]
  },
  {
   "cell_type": "code",
   "execution_count": 47,
   "id": "8a40d9f6",
   "metadata": {},
   "outputs": [
    {
     "name": "stdout",
     "output_type": "stream",
     "text": [
      "<class 'pandas.core.frame.DataFrame'>\n",
      "RangeIndex: 56903 entries, 0 to 56902\n",
      "Data columns (total 2 columns):\n",
      " #   Column  Non-Null Count  Dtype \n",
      "---  ------  --------------  ----- \n",
      " 0   id      56903 non-null  object\n",
      " 1   alco    56903 non-null  object\n",
      "dtypes: object(2)\n",
      "memory usage: 889.2+ KB\n"
     ]
    }
   ],
   "source": [
    "df1.info()"
   ]
  },
  {
   "cell_type": "code",
   "execution_count": 48,
   "id": "e830b286",
   "metadata": {},
   "outputs": [],
   "source": [
    "# Convert 'id' and 'alco' columns to int\n",
    "df1['id'] = df1['id'].astype(int)\n",
    "df1['alco'] = df1['alco'].astype(int)\n"
   ]
  },
  {
   "cell_type": "code",
   "execution_count": null,
   "id": "0c5baad7",
   "metadata": {},
   "outputs": [],
   "source": []
  },
  {
   "cell_type": "code",
   "execution_count": null,
   "id": "b34f913f",
   "metadata": {},
   "outputs": [],
   "source": []
  },
  {
   "cell_type": "code",
   "execution_count": 22,
   "id": "6295c05d",
   "metadata": {},
   "outputs": [],
   "source": [
    "df2 = pd.read_csv('cardio_base.csv')"
   ]
  },
  {
   "cell_type": "code",
   "execution_count": 23,
   "id": "e2834325",
   "metadata": {},
   "outputs": [
    {
     "data": {
      "text/html": [
       "<div>\n",
       "<style scoped>\n",
       "    .dataframe tbody tr th:only-of-type {\n",
       "        vertical-align: middle;\n",
       "    }\n",
       "\n",
       "    .dataframe tbody tr th {\n",
       "        vertical-align: top;\n",
       "    }\n",
       "\n",
       "    .dataframe thead th {\n",
       "        text-align: right;\n",
       "    }\n",
       "</style>\n",
       "<table border=\"1\" class=\"dataframe\">\n",
       "  <thead>\n",
       "    <tr style=\"text-align: right;\">\n",
       "      <th></th>\n",
       "      <th>id</th>\n",
       "      <th>age</th>\n",
       "      <th>gender</th>\n",
       "      <th>height</th>\n",
       "      <th>weight</th>\n",
       "      <th>ap_hi</th>\n",
       "      <th>ap_lo</th>\n",
       "      <th>cholesterol</th>\n",
       "      <th>smoke</th>\n",
       "    </tr>\n",
       "  </thead>\n",
       "  <tbody>\n",
       "    <tr>\n",
       "      <th>0</th>\n",
       "      <td>0</td>\n",
       "      <td>18393</td>\n",
       "      <td>2</td>\n",
       "      <td>168</td>\n",
       "      <td>62.0</td>\n",
       "      <td>110</td>\n",
       "      <td>80</td>\n",
       "      <td>1</td>\n",
       "      <td>0</td>\n",
       "    </tr>\n",
       "    <tr>\n",
       "      <th>1</th>\n",
       "      <td>1</td>\n",
       "      <td>20228</td>\n",
       "      <td>1</td>\n",
       "      <td>156</td>\n",
       "      <td>85.0</td>\n",
       "      <td>140</td>\n",
       "      <td>90</td>\n",
       "      <td>3</td>\n",
       "      <td>0</td>\n",
       "    </tr>\n",
       "    <tr>\n",
       "      <th>2</th>\n",
       "      <td>2</td>\n",
       "      <td>18857</td>\n",
       "      <td>1</td>\n",
       "      <td>165</td>\n",
       "      <td>64.0</td>\n",
       "      <td>130</td>\n",
       "      <td>70</td>\n",
       "      <td>3</td>\n",
       "      <td>0</td>\n",
       "    </tr>\n",
       "    <tr>\n",
       "      <th>3</th>\n",
       "      <td>3</td>\n",
       "      <td>17623</td>\n",
       "      <td>2</td>\n",
       "      <td>169</td>\n",
       "      <td>82.0</td>\n",
       "      <td>150</td>\n",
       "      <td>100</td>\n",
       "      <td>1</td>\n",
       "      <td>0</td>\n",
       "    </tr>\n",
       "    <tr>\n",
       "      <th>4</th>\n",
       "      <td>4</td>\n",
       "      <td>17474</td>\n",
       "      <td>1</td>\n",
       "      <td>156</td>\n",
       "      <td>56.0</td>\n",
       "      <td>100</td>\n",
       "      <td>60</td>\n",
       "      <td>1</td>\n",
       "      <td>0</td>\n",
       "    </tr>\n",
       "  </tbody>\n",
       "</table>\n",
       "</div>"
      ],
      "text/plain": [
       "   id    age  gender  height  weight  ap_hi  ap_lo  cholesterol  smoke\n",
       "0   0  18393       2     168    62.0    110     80            1      0\n",
       "1   1  20228       1     156    85.0    140     90            3      0\n",
       "2   2  18857       1     165    64.0    130     70            3      0\n",
       "3   3  17623       2     169    82.0    150    100            1      0\n",
       "4   4  17474       1     156    56.0    100     60            1      0"
      ]
     },
     "execution_count": 23,
     "metadata": {},
     "output_type": "execute_result"
    }
   ],
   "source": [
    "df2.head(5)"
   ]
  },
  {
   "cell_type": "code",
   "execution_count": 25,
   "id": "59473a55",
   "metadata": {},
   "outputs": [
    {
     "name": "stdout",
     "output_type": "stream",
     "text": [
      "<class 'pandas.core.frame.DataFrame'>\n",
      "RangeIndex: 70000 entries, 0 to 69999\n",
      "Data columns (total 9 columns):\n",
      " #   Column       Non-Null Count  Dtype  \n",
      "---  ------       --------------  -----  \n",
      " 0   id           70000 non-null  int64  \n",
      " 1   age          70000 non-null  int64  \n",
      " 2   gender       70000 non-null  int64  \n",
      " 3   height       70000 non-null  int64  \n",
      " 4   weight       70000 non-null  float64\n",
      " 5   ap_hi        70000 non-null  int64  \n",
      " 6   ap_lo        70000 non-null  int64  \n",
      " 7   cholesterol  70000 non-null  int64  \n",
      " 8   smoke        70000 non-null  int64  \n",
      "dtypes: float64(1), int64(8)\n",
      "memory usage: 4.8 MB\n"
     ]
    }
   ],
   "source": [
    "df2.info()"
   ]
  },
  {
   "cell_type": "code",
   "execution_count": 26,
   "id": "5e715df5",
   "metadata": {},
   "outputs": [
    {
     "data": {
      "text/html": [
       "<div>\n",
       "<style scoped>\n",
       "    .dataframe tbody tr th:only-of-type {\n",
       "        vertical-align: middle;\n",
       "    }\n",
       "\n",
       "    .dataframe tbody tr th {\n",
       "        vertical-align: top;\n",
       "    }\n",
       "\n",
       "    .dataframe thead th {\n",
       "        text-align: right;\n",
       "    }\n",
       "</style>\n",
       "<table border=\"1\" class=\"dataframe\">\n",
       "  <thead>\n",
       "    <tr style=\"text-align: right;\">\n",
       "      <th></th>\n",
       "      <th>id</th>\n",
       "      <th>age</th>\n",
       "      <th>gender</th>\n",
       "      <th>height</th>\n",
       "      <th>weight</th>\n",
       "      <th>ap_hi</th>\n",
       "      <th>ap_lo</th>\n",
       "      <th>cholesterol</th>\n",
       "      <th>smoke</th>\n",
       "    </tr>\n",
       "  </thead>\n",
       "  <tbody>\n",
       "    <tr>\n",
       "      <th>count</th>\n",
       "      <td>70000.000000</td>\n",
       "      <td>70000.000000</td>\n",
       "      <td>70000.000000</td>\n",
       "      <td>70000.000000</td>\n",
       "      <td>70000.000000</td>\n",
       "      <td>70000.000000</td>\n",
       "      <td>70000.000000</td>\n",
       "      <td>70000.000000</td>\n",
       "      <td>70000.000000</td>\n",
       "    </tr>\n",
       "    <tr>\n",
       "      <th>mean</th>\n",
       "      <td>49972.419900</td>\n",
       "      <td>19468.865814</td>\n",
       "      <td>1.349571</td>\n",
       "      <td>164.359229</td>\n",
       "      <td>74.205690</td>\n",
       "      <td>128.817286</td>\n",
       "      <td>96.630414</td>\n",
       "      <td>1.366871</td>\n",
       "      <td>0.088129</td>\n",
       "    </tr>\n",
       "    <tr>\n",
       "      <th>std</th>\n",
       "      <td>28851.302323</td>\n",
       "      <td>2467.251667</td>\n",
       "      <td>0.476838</td>\n",
       "      <td>8.210126</td>\n",
       "      <td>14.395757</td>\n",
       "      <td>154.011419</td>\n",
       "      <td>188.472530</td>\n",
       "      <td>0.680250</td>\n",
       "      <td>0.283484</td>\n",
       "    </tr>\n",
       "    <tr>\n",
       "      <th>min</th>\n",
       "      <td>0.000000</td>\n",
       "      <td>10798.000000</td>\n",
       "      <td>1.000000</td>\n",
       "      <td>55.000000</td>\n",
       "      <td>10.000000</td>\n",
       "      <td>-150.000000</td>\n",
       "      <td>-70.000000</td>\n",
       "      <td>1.000000</td>\n",
       "      <td>0.000000</td>\n",
       "    </tr>\n",
       "    <tr>\n",
       "      <th>25%</th>\n",
       "      <td>25006.750000</td>\n",
       "      <td>17664.000000</td>\n",
       "      <td>1.000000</td>\n",
       "      <td>159.000000</td>\n",
       "      <td>65.000000</td>\n",
       "      <td>120.000000</td>\n",
       "      <td>80.000000</td>\n",
       "      <td>1.000000</td>\n",
       "      <td>0.000000</td>\n",
       "    </tr>\n",
       "    <tr>\n",
       "      <th>50%</th>\n",
       "      <td>50001.500000</td>\n",
       "      <td>19703.000000</td>\n",
       "      <td>1.000000</td>\n",
       "      <td>165.000000</td>\n",
       "      <td>72.000000</td>\n",
       "      <td>120.000000</td>\n",
       "      <td>80.000000</td>\n",
       "      <td>1.000000</td>\n",
       "      <td>0.000000</td>\n",
       "    </tr>\n",
       "    <tr>\n",
       "      <th>75%</th>\n",
       "      <td>74889.250000</td>\n",
       "      <td>21327.000000</td>\n",
       "      <td>2.000000</td>\n",
       "      <td>170.000000</td>\n",
       "      <td>82.000000</td>\n",
       "      <td>140.000000</td>\n",
       "      <td>90.000000</td>\n",
       "      <td>2.000000</td>\n",
       "      <td>0.000000</td>\n",
       "    </tr>\n",
       "    <tr>\n",
       "      <th>max</th>\n",
       "      <td>99999.000000</td>\n",
       "      <td>23713.000000</td>\n",
       "      <td>2.000000</td>\n",
       "      <td>250.000000</td>\n",
       "      <td>200.000000</td>\n",
       "      <td>16020.000000</td>\n",
       "      <td>11000.000000</td>\n",
       "      <td>3.000000</td>\n",
       "      <td>1.000000</td>\n",
       "    </tr>\n",
       "  </tbody>\n",
       "</table>\n",
       "</div>"
      ],
      "text/plain": [
       "                 id           age        gender        height        weight  \\\n",
       "count  70000.000000  70000.000000  70000.000000  70000.000000  70000.000000   \n",
       "mean   49972.419900  19468.865814      1.349571    164.359229     74.205690   \n",
       "std    28851.302323   2467.251667      0.476838      8.210126     14.395757   \n",
       "min        0.000000  10798.000000      1.000000     55.000000     10.000000   \n",
       "25%    25006.750000  17664.000000      1.000000    159.000000     65.000000   \n",
       "50%    50001.500000  19703.000000      1.000000    165.000000     72.000000   \n",
       "75%    74889.250000  21327.000000      2.000000    170.000000     82.000000   \n",
       "max    99999.000000  23713.000000      2.000000    250.000000    200.000000   \n",
       "\n",
       "              ap_hi         ap_lo   cholesterol         smoke  \n",
       "count  70000.000000  70000.000000  70000.000000  70000.000000  \n",
       "mean     128.817286     96.630414      1.366871      0.088129  \n",
       "std      154.011419    188.472530      0.680250      0.283484  \n",
       "min     -150.000000    -70.000000      1.000000      0.000000  \n",
       "25%      120.000000     80.000000      1.000000      0.000000  \n",
       "50%      120.000000     80.000000      1.000000      0.000000  \n",
       "75%      140.000000     90.000000      2.000000      0.000000  \n",
       "max    16020.000000  11000.000000      3.000000      1.000000  "
      ]
     },
     "execution_count": 26,
     "metadata": {},
     "output_type": "execute_result"
    }
   ],
   "source": [
    "df2.describe()"
   ]
  },
  {
   "cell_type": "code",
   "execution_count": 35,
   "id": "f2ae565c",
   "metadata": {},
   "outputs": [
    {
     "name": "stdout",
     "output_type": "stream",
     "text": [
      "75.4125\n",
      "67.25\n",
      "The age group with the highest average weight (64.0) is 12.14% heavier than the age group with the lowest weight (30.0).\n"
     ]
    }
   ],
   "source": [
    "df2['age'] = round(df2['age'] / 365,0)\n",
    "\n",
    "\n",
    "# Group by 'age' and calculate the average weight for each age group\n",
    "average_weight_by_age = df2.groupby('age')['weight'].mean()\n",
    "\n",
    "print(max(average_weight_by_age))\n",
    "print(min(average_weight_by_age))\n",
    "\n",
    "# Identify the age group with the highest and lowest average weight\n",
    "age_highest_weight = average_weight_by_age.idxmax()\n",
    "age_lowest_weight = average_weight_by_age.idxmin()\n",
    "\n",
    "# Calculate the average weight for the highest and lowest weight age groups\n",
    "average_weight_highest = average_weight_by_age[age_highest_weight]\n",
    "average_weight_lowest = average_weight_by_age[age_lowest_weight]\n",
    "\n",
    "# Calculate the percentage difference in average weight\n",
    "percentage_difference = ((average_weight_highest - average_weight_lowest) / average_weight_lowest) * 100\n",
    "\n",
    "print(f\"The age group with the highest average weight ({age_highest_weight}) is {percentage_difference:.2f}% heavier than the age group with the lowest weight ({age_lowest_weight}).\")"
   ]
  },
  {
   "cell_type": "code",
   "execution_count": 36,
   "id": "6b7f6b4a",
   "metadata": {},
   "outputs": [
    {
     "data": {
      "text/html": [
       "<div>\n",
       "<style scoped>\n",
       "    .dataframe tbody tr th:only-of-type {\n",
       "        vertical-align: middle;\n",
       "    }\n",
       "\n",
       "    .dataframe tbody tr th {\n",
       "        vertical-align: top;\n",
       "    }\n",
       "\n",
       "    .dataframe thead th {\n",
       "        text-align: right;\n",
       "    }\n",
       "</style>\n",
       "<table border=\"1\" class=\"dataframe\">\n",
       "  <thead>\n",
       "    <tr style=\"text-align: right;\">\n",
       "      <th></th>\n",
       "      <th>id</th>\n",
       "      <th>age</th>\n",
       "      <th>gender</th>\n",
       "      <th>height</th>\n",
       "      <th>weight</th>\n",
       "      <th>ap_hi</th>\n",
       "      <th>ap_lo</th>\n",
       "      <th>cholesterol</th>\n",
       "      <th>smoke</th>\n",
       "    </tr>\n",
       "  </thead>\n",
       "  <tbody>\n",
       "    <tr>\n",
       "      <th>0</th>\n",
       "      <td>0</td>\n",
       "      <td>50.0</td>\n",
       "      <td>2</td>\n",
       "      <td>168</td>\n",
       "      <td>62.0</td>\n",
       "      <td>110</td>\n",
       "      <td>80</td>\n",
       "      <td>1</td>\n",
       "      <td>0</td>\n",
       "    </tr>\n",
       "    <tr>\n",
       "      <th>1</th>\n",
       "      <td>1</td>\n",
       "      <td>55.0</td>\n",
       "      <td>1</td>\n",
       "      <td>156</td>\n",
       "      <td>85.0</td>\n",
       "      <td>140</td>\n",
       "      <td>90</td>\n",
       "      <td>3</td>\n",
       "      <td>0</td>\n",
       "    </tr>\n",
       "    <tr>\n",
       "      <th>2</th>\n",
       "      <td>2</td>\n",
       "      <td>52.0</td>\n",
       "      <td>1</td>\n",
       "      <td>165</td>\n",
       "      <td>64.0</td>\n",
       "      <td>130</td>\n",
       "      <td>70</td>\n",
       "      <td>3</td>\n",
       "      <td>0</td>\n",
       "    </tr>\n",
       "    <tr>\n",
       "      <th>3</th>\n",
       "      <td>3</td>\n",
       "      <td>48.0</td>\n",
       "      <td>2</td>\n",
       "      <td>169</td>\n",
       "      <td>82.0</td>\n",
       "      <td>150</td>\n",
       "      <td>100</td>\n",
       "      <td>1</td>\n",
       "      <td>0</td>\n",
       "    </tr>\n",
       "    <tr>\n",
       "      <th>4</th>\n",
       "      <td>4</td>\n",
       "      <td>48.0</td>\n",
       "      <td>1</td>\n",
       "      <td>156</td>\n",
       "      <td>56.0</td>\n",
       "      <td>100</td>\n",
       "      <td>60</td>\n",
       "      <td>1</td>\n",
       "      <td>0</td>\n",
       "    </tr>\n",
       "  </tbody>\n",
       "</table>\n",
       "</div>"
      ],
      "text/plain": [
       "   id   age  gender  height  weight  ap_hi  ap_lo  cholesterol  smoke\n",
       "0   0  50.0       2     168    62.0    110     80            1      0\n",
       "1   1  55.0       1     156    85.0    140     90            3      0\n",
       "2   2  52.0       1     165    64.0    130     70            3      0\n",
       "3   3  48.0       2     169    82.0    150    100            1      0\n",
       "4   4  48.0       1     156    56.0    100     60            1      0"
      ]
     },
     "execution_count": 36,
     "metadata": {},
     "output_type": "execute_result"
    }
   ],
   "source": [
    "df2.head(5)"
   ]
  },
  {
   "cell_type": "code",
   "execution_count": 38,
   "id": "b9c1e88a",
   "metadata": {},
   "outputs": [
    {
     "name": "stdout",
     "output_type": "stream",
     "text": [
      "The average cholesterol for people above 50 is 14.66% higher than the average cholesterol for those below or equal to 50.\n"
     ]
    }
   ],
   "source": [
    "# Assuming your data is stored in a DataFrame named 'df2'\n",
    "# If not, you can create a DataFrame using the provided data\n",
    "\n",
    "# Split the dataframe into two groups: above 50 and below or equal to 50\n",
    "above_50 = df2[df2['age'] > 50]\n",
    "below_or_equal_50 = df2[df2['age'] <= 50]\n",
    "\n",
    "# Calculate the average cholesterol for each group\n",
    "average_cholesterol_above_50 = above_50['cholesterol'].mean()\n",
    "average_cholesterol_below_50 = below_or_equal_50['cholesterol'].mean()\n",
    "\n",
    "# Calculate the percentage difference in average cholesterol\n",
    "percentage_difference = ((average_cholesterol_above_50 - average_cholesterol_below_50) / average_cholesterol_below_50) * 100\n",
    "\n",
    "print(f\"The average cholesterol for people above 50 is {percentage_difference:.2f}% higher than the average cholesterol for those below or equal to 50.\")"
   ]
  },
  {
   "cell_type": "code",
   "execution_count": 39,
   "id": "d4986b9d",
   "metadata": {},
   "outputs": [
    {
     "name": "stdout",
     "output_type": "stream",
     "text": [
      "Men are more likely to be smokers than women.\n"
     ]
    }
   ],
   "source": [
    "# Group by 'gender' and calculate the percentage of smokers in each group\n",
    "smoker_percentage_by_gender = df2.groupby('gender')['smoke'].mean() * 100\n",
    "\n",
    "# Compare the percentage of smokers between men (gender=2) and women (gender=1)\n",
    "if smoker_percentage_by_gender[2] > smoker_percentage_by_gender[1]:\n",
    "    print(\"Men are more likely to be smokers than women.\")\n",
    "elif smoker_percentage_by_gender[2] < smoker_percentage_by_gender[1]:\n",
    "    print(\"Women are more likely to be smokers than men.\")\n",
    "else:\n",
    "    print(\"The percentage of smokers is the same for men and women.\")"
   ]
  },
  {
   "cell_type": "code",
   "execution_count": 40,
   "id": "9bf32a11",
   "metadata": {},
   "outputs": [
    {
     "name": "stdout",
     "output_type": "stream",
     "text": [
      "Men are 12.26 times more likely to be smokers than women.\n"
     ]
    }
   ],
   "source": [
    "# Group by 'gender' and calculate the smoking rate for each group\n",
    "smoking_rate_by_gender = df2.groupby('gender')['smoke'].mean()\n",
    "\n",
    "# Calculate the ratio of smoking rates (men / women)\n",
    "smoking_ratio = smoking_rate_by_gender[2] / smoking_rate_by_gender[1]\n",
    "\n",
    "print(f\"Men are {smoking_ratio:.2f} times more likely to be smokers than women.\")"
   ]
  },
  {
   "cell_type": "code",
   "execution_count": 41,
   "id": "fad1b4c8",
   "metadata": {},
   "outputs": [
    {
     "name": "stdout",
     "output_type": "stream",
     "text": [
      "The height of the tallest 1% of people is 184.00 units.\n"
     ]
    }
   ],
   "source": [
    "# Calculate the height value at the 99th percentile (1% of people are taller)\n",
    "tallest_1_percent_height = df2['height'].quantile(0.99)\n",
    "\n",
    "print(f\"The height of the tallest 1% of people is {tallest_1_percent_height:.2f} units.\")"
   ]
  },
  {
   "cell_type": "code",
   "execution_count": 44,
   "id": "78a0ac67",
   "metadata": {},
   "outputs": [
    {
     "name": "stdout",
     "output_type": "stream",
     "text": [
      "The two non-identical features with the highest Spearman rank correlation are 'ap_hi' and 'ap_lo' with a correlation coefficient of 0.74.\n"
     ]
    }
   ],
   "source": [
    "# Assuming your data is stored in a DataFrame named 'df2'\n",
    "# If not, you can create a DataFrame using the provided data\n",
    "\n",
    "# Exclude the 'id' column from the DataFrame\n",
    "df2_no_id = df2.drop(columns=['id'])\n",
    "\n",
    "# Calculate the Spearman rank correlation matrix\n",
    "spearman_corr_matrix = df2_no_id.corr(method='spearman')\n",
    "\n",
    "# Find the pair of non-identical features with the highest Spearman rank correlation\n",
    "max_corr_pair = None\n",
    "max_corr_value = 0\n",
    "\n",
    "for feature1 in spearman_corr_matrix.columns:\n",
    "    for feature2 in spearman_corr_matrix.columns:\n",
    "        if feature1 != feature2:\n",
    "            current_corr = spearman_corr_matrix.loc[feature1, feature2]\n",
    "            if abs(current_corr) > abs(max_corr_value):\n",
    "                max_corr_pair = (feature1, feature2)\n",
    "                max_corr_value = current_corr\n",
    "\n",
    "# Extract the feature names from the pair\n",
    "feature1, feature2 = max_corr_pair\n",
    "\n",
    "print(f\"The two non-identical features with the highest Spearman rank correlation are '{feature1}' and '{feature2}' with a correlation coefficient of {max_corr_value:.2f}.\")"
   ]
  },
  {
   "cell_type": "code",
   "execution_count": 45,
   "id": "084d6ce8",
   "metadata": {},
   "outputs": [
    {
     "name": "stdout",
     "output_type": "stream",
     "text": [
      "3.34% of people are more than 2 standard deviations away from the average height.\n"
     ]
    }
   ],
   "source": [
    "# Calculate the average and standard deviation of the 'height' column\n",
    "average_height = df2['height'].mean()\n",
    "std_dev_height = df2['height'].std()\n",
    "\n",
    "# Define the threshold (2 standard deviations away from the average)\n",
    "threshold = 2 * std_dev_height\n",
    "\n",
    "# Count the number of people more than 2 standard deviations away from the average height\n",
    "count_above_threshold = np.sum(np.abs(df2['height'] - average_height) > threshold)\n",
    "\n",
    "# Calculate the percentage\n",
    "percentage_above_threshold = (count_above_threshold / len(df2)) * 100\n",
    "\n",
    "print(f\"{percentage_above_threshold:.2f}% of people are more than 2 standard deviations away from the average height.\")"
   ]
  },
  {
   "cell_type": "code",
   "execution_count": null,
   "id": "0bfba9b6",
   "metadata": {},
   "outputs": [],
   "source": [
    "#"
   ]
  },
  {
   "cell_type": "code",
   "execution_count": 49,
   "id": "1ad7556e",
   "metadata": {},
   "outputs": [
    {
     "name": "stdout",
     "output_type": "stream",
     "text": [
      "          id   age  gender  height  weight  ap_hi  ap_lo  cholesterol  smoke  \\\n",
      "0         44  40.0       1     159    60.0    110     70            1      0   \n",
      "1         45  57.0       1     160    73.0    130     85            1      0   \n",
      "2         46  60.0       2     173    82.0    140     90            3      0   \n",
      "3         47  56.0       1     163    55.0    120     80            1      0   \n",
      "4         49  50.0       2     175    95.0    120     80            1      0   \n",
      "...      ...   ...     ...     ...     ...    ...    ...          ...    ...   \n",
      "56898  99949  58.0       1     178    69.0    130     90            1      0   \n",
      "56899  99950  54.0       2     155    76.0    130     90            1      0   \n",
      "56900  99951  62.0       2     170    72.0    120     80            1      0   \n",
      "56901  99952  42.0       2     165    66.0    120     80            1      0   \n",
      "56902  99954  56.0       1     156    67.0    140     80            2      0   \n",
      "\n",
      "       alco  \n",
      "0         0  \n",
      "1         0  \n",
      "2         0  \n",
      "3         0  \n",
      "4         0  \n",
      "...     ...  \n",
      "56898     0  \n",
      "56899     0  \n",
      "56900     0  \n",
      "56901     0  \n",
      "56902     0  \n",
      "\n",
      "[56903 rows x 10 columns]\n"
     ]
    }
   ],
   "source": [
    "# Merge df2 and df1 on 'id', excluding rows without alcohol consumption information\n",
    "merged_df = pd.merge(df2, df1, how='inner', on='id')\n",
    "\n"
   ]
  },
  {
   "cell_type": "code",
   "execution_count": 50,
   "id": "f9a69cbe",
   "metadata": {},
   "outputs": [
    {
     "data": {
      "text/html": [
       "<div>\n",
       "<style scoped>\n",
       "    .dataframe tbody tr th:only-of-type {\n",
       "        vertical-align: middle;\n",
       "    }\n",
       "\n",
       "    .dataframe tbody tr th {\n",
       "        vertical-align: top;\n",
       "    }\n",
       "\n",
       "    .dataframe thead th {\n",
       "        text-align: right;\n",
       "    }\n",
       "</style>\n",
       "<table border=\"1\" class=\"dataframe\">\n",
       "  <thead>\n",
       "    <tr style=\"text-align: right;\">\n",
       "      <th></th>\n",
       "      <th>id</th>\n",
       "      <th>age</th>\n",
       "      <th>gender</th>\n",
       "      <th>height</th>\n",
       "      <th>weight</th>\n",
       "      <th>ap_hi</th>\n",
       "      <th>ap_lo</th>\n",
       "      <th>cholesterol</th>\n",
       "      <th>smoke</th>\n",
       "      <th>alco</th>\n",
       "    </tr>\n",
       "  </thead>\n",
       "  <tbody>\n",
       "    <tr>\n",
       "      <th>0</th>\n",
       "      <td>44</td>\n",
       "      <td>40.0</td>\n",
       "      <td>1</td>\n",
       "      <td>159</td>\n",
       "      <td>60.0</td>\n",
       "      <td>110</td>\n",
       "      <td>70</td>\n",
       "      <td>1</td>\n",
       "      <td>0</td>\n",
       "      <td>0</td>\n",
       "    </tr>\n",
       "    <tr>\n",
       "      <th>1</th>\n",
       "      <td>45</td>\n",
       "      <td>57.0</td>\n",
       "      <td>1</td>\n",
       "      <td>160</td>\n",
       "      <td>73.0</td>\n",
       "      <td>130</td>\n",
       "      <td>85</td>\n",
       "      <td>1</td>\n",
       "      <td>0</td>\n",
       "      <td>0</td>\n",
       "    </tr>\n",
       "    <tr>\n",
       "      <th>2</th>\n",
       "      <td>46</td>\n",
       "      <td>60.0</td>\n",
       "      <td>2</td>\n",
       "      <td>173</td>\n",
       "      <td>82.0</td>\n",
       "      <td>140</td>\n",
       "      <td>90</td>\n",
       "      <td>3</td>\n",
       "      <td>0</td>\n",
       "      <td>0</td>\n",
       "    </tr>\n",
       "    <tr>\n",
       "      <th>3</th>\n",
       "      <td>47</td>\n",
       "      <td>56.0</td>\n",
       "      <td>1</td>\n",
       "      <td>163</td>\n",
       "      <td>55.0</td>\n",
       "      <td>120</td>\n",
       "      <td>80</td>\n",
       "      <td>1</td>\n",
       "      <td>0</td>\n",
       "      <td>0</td>\n",
       "    </tr>\n",
       "    <tr>\n",
       "      <th>4</th>\n",
       "      <td>49</td>\n",
       "      <td>50.0</td>\n",
       "      <td>2</td>\n",
       "      <td>175</td>\n",
       "      <td>95.0</td>\n",
       "      <td>120</td>\n",
       "      <td>80</td>\n",
       "      <td>1</td>\n",
       "      <td>0</td>\n",
       "      <td>0</td>\n",
       "    </tr>\n",
       "  </tbody>\n",
       "</table>\n",
       "</div>"
      ],
      "text/plain": [
       "   id   age  gender  height  weight  ap_hi  ap_lo  cholesterol  smoke  alco\n",
       "0  44  40.0       1     159    60.0    110     70            1      0     0\n",
       "1  45  57.0       1     160    73.0    130     85            1      0     0\n",
       "2  46  60.0       2     173    82.0    140     90            3      0     0\n",
       "3  47  56.0       1     163    55.0    120     80            1      0     0\n",
       "4  49  50.0       2     175    95.0    120     80            1      0     0"
      ]
     },
     "execution_count": 50,
     "metadata": {},
     "output_type": "execute_result"
    }
   ],
   "source": [
    "merged_df.head(5)"
   ]
  },
  {
   "cell_type": "code",
   "execution_count": 51,
   "id": "2c481857",
   "metadata": {},
   "outputs": [
    {
     "name": "stdout",
     "output_type": "stream",
     "text": [
      "4.93% of the population over 50 years old consumes alcohol.\n"
     ]
    }
   ],
   "source": [
    "# Filter individuals over 50\n",
    "over_50_df = merged_df[merged_df['age'] > 50]\n",
    "\n",
    "# Calculate the percentage of the population over 50 that consumes alcohol\n",
    "percentage_over_50_with_alcohol = (over_50_df['alco'].sum() / len(over_50_df)) * 100\n",
    "\n",
    "print(f\"{percentage_over_50_with_alcohol:.2f}% of the population over 50 years old consumes alcohol.\")"
   ]
  },
  {
   "cell_type": "code",
   "execution_count": 52,
   "id": "15babc79",
   "metadata": {},
   "outputs": [
    {
     "name": "stdout",
     "output_type": "stream",
     "text": [
      "Average Blood Pressure for Smokers:\n",
      "ap_hi    128.278230\n",
      "ap_lo     97.999802\n",
      "dtype: float64\n",
      "\n",
      "Average Blood Pressure for Non-Smokers:\n",
      "ap_hi    129.072767\n",
      "ap_lo     96.631151\n",
      "dtype: float64\n"
     ]
    }
   ],
   "source": [
    "# Calculate the average blood pressure for smokers\n",
    "average_bp_smokers = merged_df[merged_df['smoke'] == 1][['ap_hi', 'ap_lo']].mean()\n",
    "\n",
    "# Calculate the average blood pressure for non-smokers\n",
    "average_bp_non_smokers = merged_df[merged_df['smoke'] == 0][['ap_hi', 'ap_lo']].mean()\n",
    "\n",
    "print(\"Average Blood Pressure for Smokers:\")\n",
    "print(average_bp_smokers)\n",
    "\n",
    "print(\"\\nAverage Blood Pressure for Non-Smokers:\")\n",
    "print(average_bp_non_smokers)"
   ]
  },
  {
   "cell_type": "code",
   "execution_count": 53,
   "id": "21c46a22",
   "metadata": {},
   "outputs": [
    {
     "name": "stdout",
     "output_type": "stream",
     "text": [
      "Average Cholesterol Level for Smokers: 1.3905536812859693\n",
      "Average Cholesterol Level for Non-Smokers: 1.3656679006632733\n"
     ]
    }
   ],
   "source": [
    "# Calculate the average cholesterol for smokers\n",
    "average_cholesterol_smokers = merged_df[merged_df['smoke'] == 1]['cholesterol'].mean()\n",
    "\n",
    "# Calculate the average cholesterol for non-smokers\n",
    "average_cholesterol_non_smokers = merged_df[merged_df['smoke'] == 0]['cholesterol'].mean()\n",
    "\n",
    "print(\"Average Cholesterol Level for Smokers:\", average_cholesterol_smokers)\n",
    "print(\"Average Cholesterol Level for Non-Smokers:\", average_cholesterol_non_smokers)"
   ]
  },
  {
   "cell_type": "code",
   "execution_count": 54,
   "id": "855ff201",
   "metadata": {},
   "outputs": [
    {
     "name": "stdout",
     "output_type": "stream",
     "text": [
      "Average Weight for Smokers: 77.35614209168486\n",
      "Average Weight for Non-Smokers: 73.8532893722042\n"
     ]
    }
   ],
   "source": [
    "# Calculate the average weight for smokers\n",
    "average_weight_smokers = merged_df[merged_df['smoke'] == 1]['weight'].mean()\n",
    "\n",
    "# Calculate the average weight for non-smokers\n",
    "average_weight_non_smokers = merged_df[merged_df['smoke'] == 0]['weight'].mean()\n",
    "\n",
    "print(\"Average Weight for Smokers:\", average_weight_smokers)\n",
    "print(\"Average Weight for Non-Smokers:\", average_weight_non_smokers)"
   ]
  },
  {
   "cell_type": "code",
   "execution_count": 55,
   "id": "6c6bcc56",
   "metadata": {},
   "outputs": [
    {
     "name": "stdout",
     "output_type": "stream",
     "text": [
      "Average Blood Pressure for Men:\n",
      "ap_hi    130.422672\n",
      "ap_lo     99.508570\n",
      "dtype: float64\n",
      "\n",
      "Average Blood Pressure for Women:\n",
      "ap_hi    128.235406\n",
      "ap_lo     95.263877\n",
      "dtype: float64\n"
     ]
    }
   ],
   "source": [
    "# Calculate the average blood pressure for men\n",
    "average_bp_men = merged_df[merged_df['gender'] == 2][['ap_hi', 'ap_lo']].mean()\n",
    "\n",
    "# Calculate the average blood pressure for women\n",
    "average_bp_women = merged_df[merged_df['gender'] == 1][['ap_hi', 'ap_lo']].mean()\n",
    "\n",
    "print(\"Average Blood Pressure for Men:\")\n",
    "print(average_bp_men)\n",
    "\n",
    "print(\"\\nAverage Blood Pressure for Women:\")\n",
    "print(average_bp_women)"
   ]
  },
  {
   "cell_type": "code",
   "execution_count": 98,
   "id": "2afe769b",
   "metadata": {},
   "outputs": [],
   "source": [
    "df3 = pd.read_csv(\"covid_data.csv\")"
   ]
  },
  {
   "cell_type": "code",
   "execution_count": 99,
   "id": "afb0e94b",
   "metadata": {},
   "outputs": [
    {
     "data": {
      "text/html": [
       "<div>\n",
       "<style scoped>\n",
       "    .dataframe tbody tr th:only-of-type {\n",
       "        vertical-align: middle;\n",
       "    }\n",
       "\n",
       "    .dataframe tbody tr th {\n",
       "        vertical-align: top;\n",
       "    }\n",
       "\n",
       "    .dataframe thead th {\n",
       "        text-align: right;\n",
       "    }\n",
       "</style>\n",
       "<table border=\"1\" class=\"dataframe\">\n",
       "  <thead>\n",
       "    <tr style=\"text-align: right;\">\n",
       "      <th></th>\n",
       "      <th>location</th>\n",
       "      <th>date</th>\n",
       "      <th>new_cases</th>\n",
       "      <th>new_deaths</th>\n",
       "      <th>population</th>\n",
       "      <th>aged_65_older_percent</th>\n",
       "      <th>gdp_per_capita</th>\n",
       "      <th>hospital_beds_per_thousand</th>\n",
       "    </tr>\n",
       "  </thead>\n",
       "  <tbody>\n",
       "    <tr>\n",
       "      <th>0</th>\n",
       "      <td>Afghanistan</td>\n",
       "      <td>2019-12-31</td>\n",
       "      <td>0</td>\n",
       "      <td>0</td>\n",
       "      <td>38928341.0</td>\n",
       "      <td>2.581</td>\n",
       "      <td>1803.987</td>\n",
       "      <td>0.5</td>\n",
       "    </tr>\n",
       "    <tr>\n",
       "      <th>1</th>\n",
       "      <td>Afghanistan</td>\n",
       "      <td>2020-01-01</td>\n",
       "      <td>0</td>\n",
       "      <td>0</td>\n",
       "      <td>38928341.0</td>\n",
       "      <td>2.581</td>\n",
       "      <td>1803.987</td>\n",
       "      <td>0.5</td>\n",
       "    </tr>\n",
       "    <tr>\n",
       "      <th>2</th>\n",
       "      <td>Afghanistan</td>\n",
       "      <td>2020-01-02</td>\n",
       "      <td>0</td>\n",
       "      <td>0</td>\n",
       "      <td>38928341.0</td>\n",
       "      <td>2.581</td>\n",
       "      <td>1803.987</td>\n",
       "      <td>0.5</td>\n",
       "    </tr>\n",
       "    <tr>\n",
       "      <th>3</th>\n",
       "      <td>Afghanistan</td>\n",
       "      <td>2020-01-03</td>\n",
       "      <td>0</td>\n",
       "      <td>0</td>\n",
       "      <td>38928341.0</td>\n",
       "      <td>2.581</td>\n",
       "      <td>1803.987</td>\n",
       "      <td>0.5</td>\n",
       "    </tr>\n",
       "    <tr>\n",
       "      <th>4</th>\n",
       "      <td>Afghanistan</td>\n",
       "      <td>2020-01-04</td>\n",
       "      <td>0</td>\n",
       "      <td>0</td>\n",
       "      <td>38928341.0</td>\n",
       "      <td>2.581</td>\n",
       "      <td>1803.987</td>\n",
       "      <td>0.5</td>\n",
       "    </tr>\n",
       "  </tbody>\n",
       "</table>\n",
       "</div>"
      ],
      "text/plain": [
       "      location        date  new_cases  new_deaths  population  \\\n",
       "0  Afghanistan  2019-12-31          0           0  38928341.0   \n",
       "1  Afghanistan  2020-01-01          0           0  38928341.0   \n",
       "2  Afghanistan  2020-01-02          0           0  38928341.0   \n",
       "3  Afghanistan  2020-01-03          0           0  38928341.0   \n",
       "4  Afghanistan  2020-01-04          0           0  38928341.0   \n",
       "\n",
       "   aged_65_older_percent  gdp_per_capita  hospital_beds_per_thousand  \n",
       "0                  2.581        1803.987                         0.5  \n",
       "1                  2.581        1803.987                         0.5  \n",
       "2                  2.581        1803.987                         0.5  \n",
       "3                  2.581        1803.987                         0.5  \n",
       "4                  2.581        1803.987                         0.5  "
      ]
     },
     "execution_count": 99,
     "metadata": {},
     "output_type": "execute_result"
    }
   ],
   "source": [
    "df3.head(5)"
   ]
  },
  {
   "cell_type": "code",
   "execution_count": 100,
   "id": "83f1d531",
   "metadata": {},
   "outputs": [
    {
     "name": "stdout",
     "output_type": "stream",
     "text": [
      "<class 'pandas.core.frame.DataFrame'>\n",
      "RangeIndex: 23082 entries, 0 to 23081\n",
      "Data columns (total 8 columns):\n",
      " #   Column                      Non-Null Count  Dtype  \n",
      "---  ------                      --------------  -----  \n",
      " 0   location                    23082 non-null  object \n",
      " 1   date                        23082 non-null  object \n",
      " 2   new_cases                   23082 non-null  int64  \n",
      " 3   new_deaths                  23082 non-null  int64  \n",
      " 4   population                  23018 non-null  float64\n",
      " 5   aged_65_older_percent       20643 non-null  float64\n",
      " 6   gdp_per_capita              20711 non-null  float64\n",
      " 7   hospital_beds_per_thousand  19144 non-null  float64\n",
      "dtypes: float64(4), int64(2), object(2)\n",
      "memory usage: 1.4+ MB\n"
     ]
    }
   ],
   "source": [
    "df3.info()"
   ]
  },
  {
   "cell_type": "code",
   "execution_count": 101,
   "id": "05edd2ae",
   "metadata": {},
   "outputs": [],
   "source": [
    "# Convert 'date' column to datetime type\n",
    "df3['date'] = pd.to_datetime(df3['date'])"
   ]
  },
  {
   "cell_type": "code",
   "execution_count": 102,
   "id": "ced09750",
   "metadata": {},
   "outputs": [
    {
     "name": "stdout",
     "output_type": "stream",
     "text": [
      "The date when the difference in total confirmed cases between Italy and Germany became more than 10,000 is: 2020-03-12 00:00:00\n"
     ]
    }
   ],
   "source": [
    "# Filter data for Italy and Germany\n",
    "italy_data = df3[df3['location'] == 'Italy']\n",
    "germany_data = df3[df3['location'] == 'Germany']\n",
    "\n",
    "# Merge the data on 'date'\n",
    "merged_data = pd.merge(italy_data, germany_data, on='date', suffixes=('_italy', '_germany'))\n",
    "\n",
    "# Calculate the difference in confirmed cases\n",
    "merged_data['confirmed_cases_diff'] = merged_data['new_cases_italy'].cumsum() - merged_data['new_cases_germany'].cumsum()\n",
    "\n",
    "# Find the date when the difference became more than 10,000\n",
    "date_threshold_exceeded = merged_data.loc[merged_data['confirmed_cases_diff'] > 10000, 'date'].min()\n",
    "\n",
    "print(f\"The date when the difference in total confirmed cases between Italy and Germany became more than 10,000 is: {date_threshold_exceeded}\")"
   ]
  },
  {
   "cell_type": "code",
   "execution_count": 103,
   "id": "85ecb4f3",
   "metadata": {},
   "outputs": [
    {
     "data": {
      "image/png": "[encoded data removed]",
      "text/plain": [
       "<Figure size 432x288 with 1 Axes>"
      ]
     },
     "metadata": {
      "needs_background": "light"
     },
     "output_type": "display_data"
    },
    {
     "name": "stdout",
     "output_type": "stream",
     "text": [
      "Difference between the exponential curve and actual cases on 2020-03-20: 37024.69\n"
     ]
    }
   ],
   "source": [
    "from scipy.optimize import curve_fit\n",
    "\n",
    "# Assuming df3 is your DataFrame\n",
    "# If not, you can create a DataFrame using the provided data\n",
    "\n",
    "# Filter data for Italy between 2020-02-28 and 2020-03-20\n",
    "italy_data = df3[(df3['location'] == 'Italy') & (df3['date'] >= '2020-02-28') & (df3['date'] <= '2020-03-20')]\n",
    "\n",
    "# Extract relevant columns\n",
    "dates = np.arange(len(italy_data))\n",
    "cases = italy_data['new_cases'].cumsum()\n",
    "\n",
    "# Define the exponential function\n",
    "def exponential_func(x, A, B):\n",
    "    return A * np.exp(B * x)\n",
    "\n",
    "# Fit the exponential function to the data\n",
    "params, covariance = curve_fit(exponential_func, dates, cases)\n",
    "\n",
    "# Generate the exponential curve\n",
    "fitted_curve = exponential_func(dates, *params)\n",
    "\n",
    "# Plot the actual data and the fitted curve\n",
    "plt.plot(dates, cases, label='Actual Cases')\n",
    "plt.plot(dates, fitted_curve, label='Fitted Exponential Curve', linestyle='--')\n",
    "plt.xlabel('Days since 2020-02-28')\n",
    "plt.ylabel('Cumulative Cases')\n",
    "plt.title('Exponential Fit to Cumulative Cases in Italy')\n",
    "plt.legend()\n",
    "plt.show()\n",
    "\n",
    "# Calculate the difference between the exponential curve and actual cases on 2020-03-20\n",
    "days_passed_on_2020_03_20 = (pd.to_datetime('2020-03-20') - pd.to_datetime('2020-02-28')).days\n",
    "actual_cases_on_2020_03_20 = italy_data[italy_data['date'] == '2020-03-20']['new_cases'].cumsum().values[0]\n",
    "fitted_cases_on_2020_03_20 = exponential_func(days_passed_on_2020_03_20, *params)\n",
    "\n",
    "difference_on_2020_03_20 = fitted_cases_on_2020_03_20 - actual_cases_on_2020_03_20\n",
    "\n",
    "print(f\"Difference between the exponential curve and actual cases on 2020-03-20: {difference_on_2020_03_20:.2f}\")"
   ]
  },
  {
   "cell_type": "code",
   "execution_count": 104,
   "id": "ee6608d3",
   "metadata": {},
   "outputs": [
    {
     "name": "stdout",
     "output_type": "stream",
     "text": [
      "The country with the third-highest death rate is: Andorra\n"
     ]
    }
   ],
   "source": [
    "# Calculate death rate (deaths per million inhabitants) for each country\n",
    "death_rates = df3.groupby('location')['new_deaths'].sum() / df3.groupby('location')['population'].max() * 1_000_000\n",
    "\n",
    "# Sort countries by death rate in descending order\n",
    "sorted_countries = death_rates.sort_values(ascending=False)\n",
    "\n",
    "# Get the third country in the sorted list\n",
    "third_highest_death_rate_country = sorted_countries.index[2]\n",
    "\n",
    "print(f\"The country with the third-highest death rate is: {third_highest_death_rate_country}\")"
   ]
  },
  {
   "cell_type": "code",
   "execution_count": 105,
   "id": "4f3e66fe",
   "metadata": {},
   "outputs": [
    {
     "data": {
      "text/html": [
       "<div>\n",
       "<style scoped>\n",
       "    .dataframe tbody tr th:only-of-type {\n",
       "        vertical-align: middle;\n",
       "    }\n",
       "\n",
       "    .dataframe tbody tr th {\n",
       "        vertical-align: top;\n",
       "    }\n",
       "\n",
       "    .dataframe thead th {\n",
       "        text-align: right;\n",
       "    }\n",
       "</style>\n",
       "<table border=\"1\" class=\"dataframe\">\n",
       "  <thead>\n",
       "    <tr style=\"text-align: right;\">\n",
       "      <th></th>\n",
       "      <th>location</th>\n",
       "      <th>date</th>\n",
       "      <th>new_cases</th>\n",
       "      <th>new_deaths</th>\n",
       "      <th>population</th>\n",
       "      <th>aged_65_older_percent</th>\n",
       "      <th>gdp_per_capita</th>\n",
       "      <th>hospital_beds_per_thousand</th>\n",
       "    </tr>\n",
       "  </thead>\n",
       "  <tbody>\n",
       "    <tr>\n",
       "      <th>0</th>\n",
       "      <td>Afghanistan</td>\n",
       "      <td>2019-12-31</td>\n",
       "      <td>0</td>\n",
       "      <td>0</td>\n",
       "      <td>38928341.0</td>\n",
       "      <td>2.581</td>\n",
       "      <td>1803.987</td>\n",
       "      <td>0.5</td>\n",
       "    </tr>\n",
       "    <tr>\n",
       "      <th>1</th>\n",
       "      <td>Afghanistan</td>\n",
       "      <td>2020-01-01</td>\n",
       "      <td>0</td>\n",
       "      <td>0</td>\n",
       "      <td>38928341.0</td>\n",
       "      <td>2.581</td>\n",
       "      <td>1803.987</td>\n",
       "      <td>0.5</td>\n",
       "    </tr>\n",
       "    <tr>\n",
       "      <th>2</th>\n",
       "      <td>Afghanistan</td>\n",
       "      <td>2020-01-02</td>\n",
       "      <td>0</td>\n",
       "      <td>0</td>\n",
       "      <td>38928341.0</td>\n",
       "      <td>2.581</td>\n",
       "      <td>1803.987</td>\n",
       "      <td>0.5</td>\n",
       "    </tr>\n",
       "    <tr>\n",
       "      <th>3</th>\n",
       "      <td>Afghanistan</td>\n",
       "      <td>2020-01-03</td>\n",
       "      <td>0</td>\n",
       "      <td>0</td>\n",
       "      <td>38928341.0</td>\n",
       "      <td>2.581</td>\n",
       "      <td>1803.987</td>\n",
       "      <td>0.5</td>\n",
       "    </tr>\n",
       "    <tr>\n",
       "      <th>4</th>\n",
       "      <td>Afghanistan</td>\n",
       "      <td>2020-01-04</td>\n",
       "      <td>0</td>\n",
       "      <td>0</td>\n",
       "      <td>38928341.0</td>\n",
       "      <td>2.581</td>\n",
       "      <td>1803.987</td>\n",
       "      <td>0.5</td>\n",
       "    </tr>\n",
       "  </tbody>\n",
       "</table>\n",
       "</div>"
      ],
      "text/plain": [
       "      location       date  new_cases  new_deaths  population  \\\n",
       "0  Afghanistan 2019-12-31          0           0  38928341.0   \n",
       "1  Afghanistan 2020-01-01          0           0  38928341.0   \n",
       "2  Afghanistan 2020-01-02          0           0  38928341.0   \n",
       "3  Afghanistan 2020-01-03          0           0  38928341.0   \n",
       "4  Afghanistan 2020-01-04          0           0  38928341.0   \n",
       "\n",
       "   aged_65_older_percent  gdp_per_capita  hospital_beds_per_thousand  \n",
       "0                  2.581        1803.987                         0.5  \n",
       "1                  2.581        1803.987                         0.5  \n",
       "2                  2.581        1803.987                         0.5  \n",
       "3                  2.581        1803.987                         0.5  \n",
       "4                  2.581        1803.987                         0.5  "
      ]
     },
     "execution_count": 105,
     "metadata": {},
     "output_type": "execute_result"
    }
   ],
   "source": [
    "df3.head(5)"
   ]
  },
  {
   "cell_type": "code",
   "execution_count": null,
   "id": "c709cc6a",
   "metadata": {},
   "outputs": [],
   "source": []
  },
  {
   "cell_type": "code",
   "execution_count": 106,
   "id": "810ae2f2",
   "metadata": {},
   "outputs": [
    {
     "name": "stdout",
     "output_type": "stream",
     "text": [
      "           location  new_cases  new_deaths    population  \\\n",
      "0       Afghanistan      21459         384  3.892834e+07   \n",
      "1           Albania       1299          34  2.877800e+06   \n",
      "2           Algeria      10382         724  4.385104e+07   \n",
      "3           Andorra        852          51  7.726500e+04   \n",
      "4            Angola         96           4  3.286627e+07   \n",
      "..              ...        ...         ...           ...   \n",
      "207  Western Sahara         23           1  5.973300e+05   \n",
      "208           World    7210462      411195  7.794799e+09   \n",
      "209           Yemen        524         127  2.982597e+07   \n",
      "210          Zambia       1200          10  1.838396e+07   \n",
      "211        Zimbabwe        314           4  1.486293e+07   \n",
      "\n",
      "     aged_65_older_percent  gdp_per_capita  hospital_beds_per_thousand  \n",
      "0                    2.581        1803.987                       0.500  \n",
      "1                   13.188       11803.431                       2.890  \n",
      "2                    6.211       13913.839                       1.900  \n",
      "3                      NaN             NaN                         NaN  \n",
      "4                    2.405        5819.495                         NaN  \n",
      "..                     ...             ...                         ...  \n",
      "207                    NaN             NaN                         NaN  \n",
      "208                  8.696       15469.207                       2.705  \n",
      "209                  2.922        1479.147                       0.700  \n",
      "210                  2.480        3689.251                       2.000  \n",
      "211                  2.822        1899.775                       1.700  \n",
      "\n",
      "[212 rows x 7 columns]\n"
     ]
    }
   ],
   "source": [
    "# Remove the date column\n",
    "df3 = df3.drop('date', axis=1)\n",
    "\n",
    "# Take the sum and first value for relevant columns\n",
    "result = df3.groupby('location').agg({\n",
    "    'new_cases': 'sum',\n",
    "    'new_deaths': 'sum',\n",
    "    'population': 'first',\n",
    "    'aged_65_older_percent': 'first',\n",
    "    'gdp_per_capita': 'first',\n",
    "    'hospital_beds_per_thousand': 'first'\n",
    "}).reset_index()\n",
    "\n",
    "# Display the result\n",
    "print(result)"
   ]
  },
  {
   "cell_type": "code",
   "execution_count": 107,
   "id": "5af16281",
   "metadata": {},
   "outputs": [],
   "source": [
    "result['death_rate'] = result['new_deaths'] / result['population'] * 100000"
   ]
  },
  {
   "cell_type": "code",
   "execution_count": 108,
   "id": "26a27e29",
   "metadata": {},
   "outputs": [
    {
     "data": {
      "text/html": [
       "<div>\n",
       "<style scoped>\n",
       "    .dataframe tbody tr th:only-of-type {\n",
       "        vertical-align: middle;\n",
       "    }\n",
       "\n",
       "    .dataframe tbody tr th {\n",
       "        vertical-align: top;\n",
       "    }\n",
       "\n",
       "    .dataframe thead th {\n",
       "        text-align: right;\n",
       "    }\n",
       "</style>\n",
       "<table border=\"1\" class=\"dataframe\">\n",
       "  <thead>\n",
       "    <tr style=\"text-align: right;\">\n",
       "      <th></th>\n",
       "      <th>location</th>\n",
       "      <th>new_cases</th>\n",
       "      <th>new_deaths</th>\n",
       "      <th>population</th>\n",
       "      <th>aged_65_older_percent</th>\n",
       "      <th>gdp_per_capita</th>\n",
       "      <th>hospital_beds_per_thousand</th>\n",
       "      <th>death_rate</th>\n",
       "    </tr>\n",
       "  </thead>\n",
       "  <tbody>\n",
       "    <tr>\n",
       "      <th>0</th>\n",
       "      <td>Afghanistan</td>\n",
       "      <td>21459</td>\n",
       "      <td>384</td>\n",
       "      <td>38928341.0</td>\n",
       "      <td>2.581</td>\n",
       "      <td>1803.987</td>\n",
       "      <td>0.50</td>\n",
       "      <td>0.986428</td>\n",
       "    </tr>\n",
       "    <tr>\n",
       "      <th>1</th>\n",
       "      <td>Albania</td>\n",
       "      <td>1299</td>\n",
       "      <td>34</td>\n",
       "      <td>2877800.0</td>\n",
       "      <td>13.188</td>\n",
       "      <td>11803.431</td>\n",
       "      <td>2.89</td>\n",
       "      <td>1.181458</td>\n",
       "    </tr>\n",
       "    <tr>\n",
       "      <th>2</th>\n",
       "      <td>Algeria</td>\n",
       "      <td>10382</td>\n",
       "      <td>724</td>\n",
       "      <td>43851043.0</td>\n",
       "      <td>6.211</td>\n",
       "      <td>13913.839</td>\n",
       "      <td>1.90</td>\n",
       "      <td>1.651044</td>\n",
       "    </tr>\n",
       "    <tr>\n",
       "      <th>3</th>\n",
       "      <td>Andorra</td>\n",
       "      <td>852</td>\n",
       "      <td>51</td>\n",
       "      <td>77265.0</td>\n",
       "      <td>NaN</td>\n",
       "      <td>NaN</td>\n",
       "      <td>NaN</td>\n",
       "      <td>66.006601</td>\n",
       "    </tr>\n",
       "    <tr>\n",
       "      <th>4</th>\n",
       "      <td>Angola</td>\n",
       "      <td>96</td>\n",
       "      <td>4</td>\n",
       "      <td>32866268.0</td>\n",
       "      <td>2.405</td>\n",
       "      <td>5819.495</td>\n",
       "      <td>NaN</td>\n",
       "      <td>0.012171</td>\n",
       "    </tr>\n",
       "  </tbody>\n",
       "</table>\n",
       "</div>"
      ],
      "text/plain": [
       "      location  new_cases  new_deaths  population  aged_65_older_percent  \\\n",
       "0  Afghanistan      21459         384  38928341.0                  2.581   \n",
       "1      Albania       1299          34   2877800.0                 13.188   \n",
       "2      Algeria      10382         724  43851043.0                  6.211   \n",
       "3      Andorra        852          51     77265.0                    NaN   \n",
       "4       Angola         96           4  32866268.0                  2.405   \n",
       "\n",
       "   gdp_per_capita  hospital_beds_per_thousand  death_rate  \n",
       "0        1803.987                        0.50    0.986428  \n",
       "1       11803.431                        2.89    1.181458  \n",
       "2       13913.839                        1.90    1.651044  \n",
       "3             NaN                         NaN   66.006601  \n",
       "4        5819.495                         NaN    0.012171  "
      ]
     },
     "execution_count": 108,
     "metadata": {},
     "output_type": "execute_result"
    }
   ],
   "source": [
    "result.head(5)"
   ]
  },
  {
   "cell_type": "code",
   "execution_count": 109,
   "id": "6eb2666b",
   "metadata": {},
   "outputs": [
    {
     "name": "stdout",
     "output_type": "stream",
     "text": [
      "     location  new_cases  new_deaths   population  aged_65_older_percent  \\\n",
      "30   Bulgaria       2889         167    6948445.0                 20.801   \n",
      "67    Finland       7025         324    5540718.0                 21.228   \n",
      "73    Germany     184861        8729   83783945.0                 21.453   \n",
      "76     Greece       3058         183   10423056.0                 20.396   \n",
      "98      Italy     235561       34043   60461828.0                 23.021   \n",
      "100     Japan      17251         919  126476458.0                 27.049   \n",
      "154  Portugal      35306        1492   10196707.0                 21.502   \n",
      "\n",
      "     gdp_per_capita  hospital_beds_per_thousand  death_rate  \n",
      "30        18563.307                       7.454    2.403415  \n",
      "67        40585.721                       3.280    5.847618  \n",
      "73        45229.245                       8.000   10.418464  \n",
      "76        24574.382                       4.210    1.755723  \n",
      "98        35220.084                       3.180   56.304947  \n",
      "100       39002.223                      13.050    0.726617  \n",
      "154       27936.896                       3.390   14.632175  \n"
     ]
    }
   ],
   "source": [
    "# Filter countries with 20% or more of the population over 65 and remove NaN values\n",
    "filtered_result = result[(result['aged_65_older_percent'] >= 20) & (~result['aged_65_older_percent'].isna())]\n",
    "\n",
    "# Display the filtered DataFrame\n",
    "print(filtered_result)"
   ]
  },
  {
   "cell_type": "code",
   "execution_count": 110,
   "id": "b408ca2e",
   "metadata": {},
   "outputs": [
    {
     "name": "stdout",
     "output_type": "stream",
     "text": [
      "     location  new_cases  new_deaths   population  aged_65_older_percent  \\\n",
      "30   Bulgaria       2889         167    6948445.0                 20.801   \n",
      "67    Finland       7025         324    5540718.0                 21.228   \n",
      "73    Germany     184861        8729   83783945.0                 21.453   \n",
      "76     Greece       3058         183   10423056.0                 20.396   \n",
      "98      Italy     235561       34043   60461828.0                 23.021   \n",
      "100     Japan      17251         919  126476458.0                 27.049   \n",
      "154  Portugal      35306        1492   10196707.0                 21.502   \n",
      "\n",
      "     gdp_per_capita  hospital_beds_per_thousand  death_rate  high_death_rate  \n",
      "30        18563.307                       7.454    2.403415                0  \n",
      "67        40585.721                       3.280    5.847618                0  \n",
      "73        45229.245                       8.000   10.418464                0  \n",
      "76        24574.382                       4.210    1.755723                0  \n",
      "98        35220.084                       3.180   56.304947                1  \n",
      "100       39002.223                      13.050    0.726617                0  \n",
      "154       27936.896                       3.390   14.632175                0  \n"
     ]
    }
   ],
   "source": [
    "# Add a new column with 1 if death rate is over 50, else 0\n",
    "filtered_result['high_death_rate'] = (filtered_result['death_rate'] > 50).astype(int)\n",
    "\n",
    "# Display the DataFrame with the new column\n",
    "print(filtered_result)"
   ]
  },
  {
   "cell_type": "code",
   "execution_count": 111,
   "id": "e751dbfa",
   "metadata": {},
   "outputs": [],
   "source": [
    "# Add a new column named 'high_death_rate_predict' with constant value 1\n",
    "filtered_result['high_death_rate_predict'] = 1"
   ]
  },
  {
   "cell_type": "code",
   "execution_count": 112,
   "id": "6ef104ff",
   "metadata": {},
   "outputs": [
    {
     "data": {
      "text/html": [
       "<div>\n",
       "<style scoped>\n",
       "    .dataframe tbody tr th:only-of-type {\n",
       "        vertical-align: middle;\n",
       "    }\n",
       "\n",
       "    .dataframe tbody tr th {\n",
       "        vertical-align: top;\n",
       "    }\n",
       "\n",
       "    .dataframe thead th {\n",
       "        text-align: right;\n",
       "    }\n",
       "</style>\n",
       "<table border=\"1\" class=\"dataframe\">\n",
       "  <thead>\n",
       "    <tr style=\"text-align: right;\">\n",
       "      <th></th>\n",
       "      <th>location</th>\n",
       "      <th>new_cases</th>\n",
       "      <th>new_deaths</th>\n",
       "      <th>population</th>\n",
       "      <th>aged_65_older_percent</th>\n",
       "      <th>gdp_per_capita</th>\n",
       "      <th>hospital_beds_per_thousand</th>\n",
       "      <th>death_rate</th>\n",
       "      <th>high_death_rate</th>\n",
       "      <th>high_death_rate_predict</th>\n",
       "    </tr>\n",
       "  </thead>\n",
       "  <tbody>\n",
       "    <tr>\n",
       "      <th>30</th>\n",
       "      <td>Bulgaria</td>\n",
       "      <td>2889</td>\n",
       "      <td>167</td>\n",
       "      <td>6948445.0</td>\n",
       "      <td>20.801</td>\n",
       "      <td>18563.307</td>\n",
       "      <td>7.454</td>\n",
       "      <td>2.403415</td>\n",
       "      <td>0</td>\n",
       "      <td>1</td>\n",
       "    </tr>\n",
       "    <tr>\n",
       "      <th>67</th>\n",
       "      <td>Finland</td>\n",
       "      <td>7025</td>\n",
       "      <td>324</td>\n",
       "      <td>5540718.0</td>\n",
       "      <td>21.228</td>\n",
       "      <td>40585.721</td>\n",
       "      <td>3.280</td>\n",
       "      <td>5.847618</td>\n",
       "      <td>0</td>\n",
       "      <td>1</td>\n",
       "    </tr>\n",
       "    <tr>\n",
       "      <th>73</th>\n",
       "      <td>Germany</td>\n",
       "      <td>184861</td>\n",
       "      <td>8729</td>\n",
       "      <td>83783945.0</td>\n",
       "      <td>21.453</td>\n",
       "      <td>45229.245</td>\n",
       "      <td>8.000</td>\n",
       "      <td>10.418464</td>\n",
       "      <td>0</td>\n",
       "      <td>1</td>\n",
       "    </tr>\n",
       "    <tr>\n",
       "      <th>76</th>\n",
       "      <td>Greece</td>\n",
       "      <td>3058</td>\n",
       "      <td>183</td>\n",
       "      <td>10423056.0</td>\n",
       "      <td>20.396</td>\n",
       "      <td>24574.382</td>\n",
       "      <td>4.210</td>\n",
       "      <td>1.755723</td>\n",
       "      <td>0</td>\n",
       "      <td>1</td>\n",
       "    </tr>\n",
       "    <tr>\n",
       "      <th>98</th>\n",
       "      <td>Italy</td>\n",
       "      <td>235561</td>\n",
       "      <td>34043</td>\n",
       "      <td>60461828.0</td>\n",
       "      <td>23.021</td>\n",
       "      <td>35220.084</td>\n",
       "      <td>3.180</td>\n",
       "      <td>56.304947</td>\n",
       "      <td>1</td>\n",
       "      <td>1</td>\n",
       "    </tr>\n",
       "  </tbody>\n",
       "</table>\n",
       "</div>"
      ],
      "text/plain": [
       "    location  new_cases  new_deaths  population  aged_65_older_percent  \\\n",
       "30  Bulgaria       2889         167   6948445.0                 20.801   \n",
       "67   Finland       7025         324   5540718.0                 21.228   \n",
       "73   Germany     184861        8729  83783945.0                 21.453   \n",
       "76    Greece       3058         183  10423056.0                 20.396   \n",
       "98     Italy     235561       34043  60461828.0                 23.021   \n",
       "\n",
       "    gdp_per_capita  hospital_beds_per_thousand  death_rate  high_death_rate  \\\n",
       "30       18563.307                       7.454    2.403415                0   \n",
       "67       40585.721                       3.280    5.847618                0   \n",
       "73       45229.245                       8.000   10.418464                0   \n",
       "76       24574.382                       4.210    1.755723                0   \n",
       "98       35220.084                       3.180   56.304947                1   \n",
       "\n",
       "    high_death_rate_predict  \n",
       "30                        1  \n",
       "67                        1  \n",
       "73                        1  \n",
       "76                        1  \n",
       "98                        1  "
      ]
     },
     "execution_count": 112,
     "metadata": {},
     "output_type": "execute_result"
    }
   ],
   "source": [
    "filtered_result.head(5)"
   ]
  },
  {
   "cell_type": "code",
   "execution_count": 114,
   "id": "3df9095a",
   "metadata": {},
   "outputs": [
    {
     "name": "stdout",
     "output_type": "stream",
     "text": [
      "F1 Score: 0.2500\n"
     ]
    }
   ],
   "source": [
    "from sklearn.metrics import f1_score\n",
    "\n",
    "# Assuming filtered_result is your DataFrame\n",
    "# If not, you can create a DataFrame using the provided data\n",
    "\n",
    "# Calculate F1 score\n",
    "f1 = f1_score( filtered_result['high_death_rate_predict'], filtered_result['high_death_rate'])\n",
    "\n",
    "# Display the F1 score\n",
    "print(f\"F1 Score: {f1:.4f}\")"
   ]
  },
  {
   "cell_type": "code",
   "execution_count": 115,
   "id": "10c9ddba",
   "metadata": {},
   "outputs": [],
   "source": [
    "# Replace values in the 'high_death_rate_predict' column with all 0s\n",
    "filtered_result['high_death_rate_predict'] = 0"
   ]
  },
  {
   "cell_type": "code",
   "execution_count": 116,
   "id": "240a236e",
   "metadata": {},
   "outputs": [
    {
     "name": "stdout",
     "output_type": "stream",
     "text": [
      "F1 Score: 0.0000\n"
     ]
    }
   ],
   "source": [
    "# Calculate F1 score\n",
    "f1 = f1_score( filtered_result['high_death_rate_predict'], filtered_result['high_death_rate'])\n",
    "\n",
    "# Display the F1 score\n",
    "print(f\"F1 Score: {f1:.4f}\")"
   ]
  },
  {
   "cell_type": "code",
   "execution_count": 117,
   "id": "2505778d",
   "metadata": {},
   "outputs": [
    {
     "name": "stdout",
     "output_type": "stream",
     "text": [
      "<class 'pandas.core.frame.DataFrame'>\n",
      "RangeIndex: 212 entries, 0 to 211\n",
      "Data columns (total 8 columns):\n",
      " #   Column                      Non-Null Count  Dtype  \n",
      "---  ------                      --------------  -----  \n",
      " 0   location                    212 non-null    object \n",
      " 1   new_cases                   212 non-null    int64  \n",
      " 2   new_deaths                  212 non-null    int64  \n",
      " 3   population                  211 non-null    float64\n",
      " 4   aged_65_older_percent       184 non-null    float64\n",
      " 5   gdp_per_capita              184 non-null    float64\n",
      " 6   hospital_beds_per_thousand  165 non-null    float64\n",
      " 7   death_rate                  211 non-null    float64\n",
      "dtypes: float64(5), int64(2), object(1)\n",
      "memory usage: 13.4+ KB\n"
     ]
    }
   ],
   "source": [
    "result.info()"
   ]
  },
  {
   "cell_type": "code",
   "execution_count": 118,
   "id": "c0e72f08",
   "metadata": {},
   "outputs": [
    {
     "data": {
      "text/html": [
       "<div>\n",
       "<style scoped>\n",
       "    .dataframe tbody tr th:only-of-type {\n",
       "        vertical-align: middle;\n",
       "    }\n",
       "\n",
       "    .dataframe tbody tr th {\n",
       "        vertical-align: top;\n",
       "    }\n",
       "\n",
       "    .dataframe thead th {\n",
       "        text-align: right;\n",
       "    }\n",
       "</style>\n",
       "<table border=\"1\" class=\"dataframe\">\n",
       "  <thead>\n",
       "    <tr style=\"text-align: right;\">\n",
       "      <th></th>\n",
       "      <th>location</th>\n",
       "      <th>new_cases</th>\n",
       "      <th>new_deaths</th>\n",
       "      <th>population</th>\n",
       "      <th>aged_65_older_percent</th>\n",
       "      <th>gdp_per_capita</th>\n",
       "      <th>hospital_beds_per_thousand</th>\n",
       "      <th>death_rate</th>\n",
       "    </tr>\n",
       "  </thead>\n",
       "  <tbody>\n",
       "    <tr>\n",
       "      <th>0</th>\n",
       "      <td>Afghanistan</td>\n",
       "      <td>21459</td>\n",
       "      <td>384</td>\n",
       "      <td>38928341.0</td>\n",
       "      <td>2.581</td>\n",
       "      <td>1803.987</td>\n",
       "      <td>0.50</td>\n",
       "      <td>0.986428</td>\n",
       "    </tr>\n",
       "    <tr>\n",
       "      <th>1</th>\n",
       "      <td>Albania</td>\n",
       "      <td>1299</td>\n",
       "      <td>34</td>\n",
       "      <td>2877800.0</td>\n",
       "      <td>13.188</td>\n",
       "      <td>11803.431</td>\n",
       "      <td>2.89</td>\n",
       "      <td>1.181458</td>\n",
       "    </tr>\n",
       "    <tr>\n",
       "      <th>2</th>\n",
       "      <td>Algeria</td>\n",
       "      <td>10382</td>\n",
       "      <td>724</td>\n",
       "      <td>43851043.0</td>\n",
       "      <td>6.211</td>\n",
       "      <td>13913.839</td>\n",
       "      <td>1.90</td>\n",
       "      <td>1.651044</td>\n",
       "    </tr>\n",
       "    <tr>\n",
       "      <th>3</th>\n",
       "      <td>Andorra</td>\n",
       "      <td>852</td>\n",
       "      <td>51</td>\n",
       "      <td>77265.0</td>\n",
       "      <td>NaN</td>\n",
       "      <td>NaN</td>\n",
       "      <td>NaN</td>\n",
       "      <td>66.006601</td>\n",
       "    </tr>\n",
       "    <tr>\n",
       "      <th>4</th>\n",
       "      <td>Angola</td>\n",
       "      <td>96</td>\n",
       "      <td>4</td>\n",
       "      <td>32866268.0</td>\n",
       "      <td>2.405</td>\n",
       "      <td>5819.495</td>\n",
       "      <td>NaN</td>\n",
       "      <td>0.012171</td>\n",
       "    </tr>\n",
       "    <tr>\n",
       "      <th>5</th>\n",
       "      <td>Anguilla</td>\n",
       "      <td>3</td>\n",
       "      <td>0</td>\n",
       "      <td>15002.0</td>\n",
       "      <td>NaN</td>\n",
       "      <td>NaN</td>\n",
       "      <td>NaN</td>\n",
       "      <td>0.000000</td>\n",
       "    </tr>\n",
       "    <tr>\n",
       "      <th>6</th>\n",
       "      <td>Antigua and Barbuda</td>\n",
       "      <td>26</td>\n",
       "      <td>3</td>\n",
       "      <td>97928.0</td>\n",
       "      <td>6.933</td>\n",
       "      <td>21490.943</td>\n",
       "      <td>3.80</td>\n",
       "      <td>3.063475</td>\n",
       "    </tr>\n",
       "    <tr>\n",
       "      <th>7</th>\n",
       "      <td>Argentina</td>\n",
       "      <td>24748</td>\n",
       "      <td>717</td>\n",
       "      <td>45195777.0</td>\n",
       "      <td>11.198</td>\n",
       "      <td>18933.907</td>\n",
       "      <td>5.00</td>\n",
       "      <td>1.586431</td>\n",
       "    </tr>\n",
       "    <tr>\n",
       "      <th>8</th>\n",
       "      <td>Armenia</td>\n",
       "      <td>13675</td>\n",
       "      <td>217</td>\n",
       "      <td>2963234.0</td>\n",
       "      <td>11.232</td>\n",
       "      <td>8787.580</td>\n",
       "      <td>4.20</td>\n",
       "      <td>7.323080</td>\n",
       "    </tr>\n",
       "    <tr>\n",
       "      <th>9</th>\n",
       "      <td>Aruba</td>\n",
       "      <td>101</td>\n",
       "      <td>3</td>\n",
       "      <td>106766.0</td>\n",
       "      <td>13.085</td>\n",
       "      <td>35973.781</td>\n",
       "      <td>NaN</td>\n",
       "      <td>2.809883</td>\n",
       "    </tr>\n",
       "  </tbody>\n",
       "</table>\n",
       "</div>"
      ],
      "text/plain": [
       "              location  new_cases  new_deaths  population  \\\n",
       "0          Afghanistan      21459         384  38928341.0   \n",
       "1              Albania       1299          34   2877800.0   \n",
       "2              Algeria      10382         724  43851043.0   \n",
       "3              Andorra        852          51     77265.0   \n",
       "4               Angola         96           4  32866268.0   \n",
       "5             Anguilla          3           0     15002.0   \n",
       "6  Antigua and Barbuda         26           3     97928.0   \n",
       "7            Argentina      24748         717  45195777.0   \n",
       "8              Armenia      13675         217   2963234.0   \n",
       "9                Aruba        101           3    106766.0   \n",
       "\n",
       "   aged_65_older_percent  gdp_per_capita  hospital_beds_per_thousand  \\\n",
       "0                  2.581        1803.987                        0.50   \n",
       "1                 13.188       11803.431                        2.89   \n",
       "2                  6.211       13913.839                        1.90   \n",
       "3                    NaN             NaN                         NaN   \n",
       "4                  2.405        5819.495                         NaN   \n",
       "5                    NaN             NaN                         NaN   \n",
       "6                  6.933       21490.943                        3.80   \n",
       "7                 11.198       18933.907                        5.00   \n",
       "8                 11.232        8787.580                        4.20   \n",
       "9                 13.085       35973.781                         NaN   \n",
       "\n",
       "   death_rate  \n",
       "0    0.986428  \n",
       "1    1.181458  \n",
       "2    1.651044  \n",
       "3   66.006601  \n",
       "4    0.012171  \n",
       "5    0.000000  \n",
       "6    3.063475  \n",
       "7    1.586431  \n",
       "8    7.323080  \n",
       "9    2.809883  "
      ]
     },
     "execution_count": 118,
     "metadata": {},
     "output_type": "execute_result"
    }
   ],
   "source": [
    "result.head(10)"
   ]
  },
  {
   "cell_type": "code",
   "execution_count": 120,
   "id": "7078aec8",
   "metadata": {},
   "outputs": [
    {
     "name": "stdout",
     "output_type": "stream",
     "text": [
      "Probability of GDP over $10,000 given at least 5 hospital beds per 1000 inhabitants: 0.8846\n"
     ]
    }
   ],
   "source": [
    "# Remove rows with NaN or blank values in 'gdp_per_capita' and 'hospital_beds_per_thousand' columns\n",
    "cleaned_data = result.dropna(subset=['gdp_per_capita', 'hospital_beds_per_thousand'], how='any')\n",
    "\n",
    "# Filter the cleaned DataFrame for countries with at least 5 hospital beds per 1000 inhabitants\n",
    "filtered_data = cleaned_data[cleaned_data['hospital_beds_per_thousand'] >= 5]\n",
    "\n",
    "# Calculate the probability of having a GDP over $10,000 given the filter\n",
    "probability = filtered_data[filtered_data['gdp_per_capita'] > 10000].shape[0] / filtered_data.shape[0]\n",
    "\n",
    "# Display the probability\n",
    "print(f\"Probability of GDP over $10,000 given at least 5 hospital beds per 1000 inhabitants: {probability:.4f}\")"
   ]
  },
  {
   "cell_type": "code",
   "execution_count": null,
   "id": "577c8e90",
   "metadata": {},
   "outputs": [],
   "source": []
  }
 ],
 "metadata": {
  "kernelspec": {
   "display_name": "Python 3 (ipykernel)",
   "language": "python",
   "name": "python3"
  },
  "language_info": {
   "codemirror_mode": {
    "name": "ipython",
    "version": 3
   },
   "file_extension": ".py",
   "mimetype": "text/x-python",
   "name": "python",
   "nbconvert_exporter": "python",
   "pygments_lexer": "ipython3",
   "version": "3.9.12"
  }
 },
 "nbformat": 4,
 "nbformat_minor": 5
}
