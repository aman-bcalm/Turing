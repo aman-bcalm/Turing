{
 "cells": [
  {
   "cell_type": "code",
   "execution_count": 541,
   "id": "20b37df1",
   "metadata": {},
   "outputs": [],
   "source": [
    "import pandas as pd\n",
    "import numpy as np\n",
    "import seaborn as sns\n",
    "from matplotlib import pyplot as plt\n",
    "from sklearn import preprocessing\n",
    "\n",
    "\n",
    "import warnings\n",
    "warnings.filterwarnings('ignore')"
   ]
  },
  {
   "cell_type": "code",
   "execution_count": 542,
   "id": "91c43b9f",
   "metadata": {},
   "outputs": [],
   "source": [
    "# Q1) Which are the top 10 listings that have been listed the most number of times ? "
   ]
  },
  {
   "cell_type": "code",
   "execution_count": 543,
   "id": "7cde2ec8",
   "metadata": {},
   "outputs": [],
   "source": [
    "#Part 1 "
   ]
  },
  {
   "cell_type": "code",
   "execution_count": 544,
   "id": "01f343b8",
   "metadata": {},
   "outputs": [],
   "source": [
    "#Summary Review data and Listing ID (to facilitate time based analytics and visualisations linked to a listing).\n",
    "dfr_b = pd.read_csv(\"reviews_brief.csv\")"
   ]
  },
  {
   "cell_type": "code",
   "execution_count": 545,
   "id": "9e815b21",
   "metadata": {},
   "outputs": [
    {
     "data": {
      "text/plain": [
       "(1581033, 2)"
      ]
     },
     "execution_count": 545,
     "metadata": {},
     "output_type": "execute_result"
    }
   ],
   "source": [
    "#Shape of the data\n",
    "dfr_b.shape"
   ]
  },
  {
   "cell_type": "code",
   "execution_count": 546,
   "id": "48316234",
   "metadata": {},
   "outputs": [
    {
     "data": {
      "text/html": [
       "<div>\n",
       "<style scoped>\n",
       "    .dataframe tbody tr th:only-of-type {\n",
       "        vertical-align: middle;\n",
       "    }\n",
       "\n",
       "    .dataframe tbody tr th {\n",
       "        vertical-align: top;\n",
       "    }\n",
       "\n",
       "    .dataframe thead th {\n",
       "        text-align: right;\n",
       "    }\n",
       "</style>\n",
       "<table border=\"1\" class=\"dataframe\">\n",
       "  <thead>\n",
       "    <tr style=\"text-align: right;\">\n",
       "      <th></th>\n",
       "      <th>listing_id</th>\n",
       "      <th>date</th>\n",
       "    </tr>\n",
       "  </thead>\n",
       "  <tbody>\n",
       "    <tr>\n",
       "      <th>0</th>\n",
       "      <td>13913</td>\n",
       "      <td>2010-08-18</td>\n",
       "    </tr>\n",
       "    <tr>\n",
       "      <th>1</th>\n",
       "      <td>13913</td>\n",
       "      <td>2011-07-11</td>\n",
       "    </tr>\n",
       "    <tr>\n",
       "      <th>2</th>\n",
       "      <td>13913</td>\n",
       "      <td>2011-09-13</td>\n",
       "    </tr>\n",
       "    <tr>\n",
       "      <th>3</th>\n",
       "      <td>13913</td>\n",
       "      <td>2011-10-03</td>\n",
       "    </tr>\n",
       "    <tr>\n",
       "      <th>4</th>\n",
       "      <td>13913</td>\n",
       "      <td>2011-10-09</td>\n",
       "    </tr>\n",
       "    <tr>\n",
       "      <th>5</th>\n",
       "      <td>13913</td>\n",
       "      <td>2013-05-28</td>\n",
       "    </tr>\n",
       "    <tr>\n",
       "      <th>6</th>\n",
       "      <td>13913</td>\n",
       "      <td>2013-10-17</td>\n",
       "    </tr>\n",
       "    <tr>\n",
       "      <th>7</th>\n",
       "      <td>13913</td>\n",
       "      <td>2014-04-17</td>\n",
       "    </tr>\n",
       "    <tr>\n",
       "      <th>8</th>\n",
       "      <td>13913</td>\n",
       "      <td>2015-09-12</td>\n",
       "    </tr>\n",
       "    <tr>\n",
       "      <th>9</th>\n",
       "      <td>13913</td>\n",
       "      <td>2016-03-05</td>\n",
       "    </tr>\n",
       "  </tbody>\n",
       "</table>\n",
       "</div>"
      ],
      "text/plain": [
       "   listing_id        date\n",
       "0       13913  2010-08-18\n",
       "1       13913  2011-07-11\n",
       "2       13913  2011-09-13\n",
       "3       13913  2011-10-03\n",
       "4       13913  2011-10-09\n",
       "5       13913  2013-05-28\n",
       "6       13913  2013-10-17\n",
       "7       13913  2014-04-17\n",
       "8       13913  2015-09-12\n",
       "9       13913  2016-03-05"
      ]
     },
     "execution_count": 546,
     "metadata": {},
     "output_type": "execute_result"
    }
   ],
   "source": [
    "dfr_b.head(10)"
   ]
  },
  {
   "cell_type": "code",
   "execution_count": 547,
   "id": "40474775",
   "metadata": {},
   "outputs": [
    {
     "name": "stdout",
     "output_type": "stream",
     "text": [
      "<class 'pandas.core.frame.DataFrame'>\n",
      "RangeIndex: 1581033 entries, 0 to 1581032\n",
      "Data columns (total 2 columns):\n",
      " #   Column      Non-Null Count    Dtype \n",
      "---  ------      --------------    ----- \n",
      " 0   listing_id  1581033 non-null  int64 \n",
      " 1   date        1581033 non-null  object\n",
      "dtypes: int64(1), object(1)\n",
      "memory usage: 24.1+ MB\n"
     ]
    }
   ],
   "source": [
    "#No null values\n",
    "dfr_b.info()"
   ]
  },
  {
   "cell_type": "code",
   "execution_count": 548,
   "id": "a438b7bb",
   "metadata": {},
   "outputs": [],
   "source": [
    "#Converting from object to date\n",
    "dfr_b['date'] = pd.to_datetime(dfr_b['date'])"
   ]
  },
  {
   "cell_type": "code",
   "execution_count": 549,
   "id": "d5dd02db",
   "metadata": {},
   "outputs": [],
   "source": [
    "# Part 2"
   ]
  },
  {
   "cell_type": "code",
   "execution_count": 550,
   "id": "0eaf8ef5",
   "metadata": {},
   "outputs": [
    {
     "data": {
      "text/plain": [
       "listing_id    65789\n",
       "date           4649\n",
       "dtype: int64"
      ]
     },
     "execution_count": 550,
     "metadata": {},
     "output_type": "execute_result"
    }
   ],
   "source": [
    "#Number of unique listings and number of unique dates\n",
    "dfr_b.nunique()"
   ]
  },
  {
   "cell_type": "code",
   "execution_count": 551,
   "id": "26682d29",
   "metadata": {},
   "outputs": [
    {
     "data": {
      "text/plain": [
       "Timestamp('2009-12-21 00:00:00')"
      ]
     },
     "execution_count": 551,
     "metadata": {},
     "output_type": "execute_result"
    }
   ],
   "source": [
    "#Minimum date amongst all listings\n",
    "dfr_b['date'].min()"
   ]
  },
  {
   "cell_type": "code",
   "execution_count": 552,
   "id": "80c084ff",
   "metadata": {},
   "outputs": [
    {
     "data": {
      "text/plain": [
       "Timestamp('2023-09-06 00:00:00')"
      ]
     },
     "execution_count": 552,
     "metadata": {},
     "output_type": "execute_result"
    }
   ],
   "source": [
    "#Maximum date amongst all listings\n",
    "dfr_b['date'].max()"
   ]
  },
  {
   "cell_type": "code",
   "execution_count": 553,
   "id": "cc966120",
   "metadata": {},
   "outputs": [],
   "source": [
    "listing_dates_count = dfr_b.groupby('listing_id')['date'].nunique()"
   ]
  },
  {
   "cell_type": "code",
   "execution_count": 554,
   "id": "158ff112",
   "metadata": {},
   "outputs": [],
   "source": [
    "# Sort the listings based on the count in descending order\n",
    "sorted_listings = listing_dates_count.sort_values(ascending=False)\n",
    "top_10_listings = sorted_listings.head(10)"
   ]
  },
  {
   "cell_type": "code",
   "execution_count": 555,
   "id": "e69095c8",
   "metadata": {},
   "outputs": [
    {
     "name": "stdout",
     "output_type": "stream",
     "text": [
      "Top 10 Listings by Number of Times Listed:\n",
      "listing_id\n",
      "1436172     1019\n",
      "2126708      929\n",
      "1436177      858\n",
      "21438138     855\n",
      "3855375      844\n",
      "2659707      797\n",
      "14518189     770\n",
      "5266466      766\n",
      "4748665      762\n",
      "2025844      718\n",
      "Name: date, dtype: int64\n"
     ]
    }
   ],
   "source": [
    "print(\"Top 10 Listings by Number of Times Listed:\")\n",
    "print(top_10_listings)"
   ]
  },
  {
   "cell_type": "code",
   "execution_count": 556,
   "id": "8fbe2e46",
   "metadata": {},
   "outputs": [],
   "source": [
    "#The top 10 listings by number of times listed on AirBnb help us determine the most active users on the platform\n",
    "#and they can be helped further by the platform to scale their businesses and generate more revenue. "
   ]
  },
  {
   "cell_type": "code",
   "execution_count": 557,
   "id": "a999d605",
   "metadata": {},
   "outputs": [
    {
     "data": {
      "image/png": "[encoded data removed]",
      "text/plain": [
       "<Figure size 1080x432 with 1 Axes>"
      ]
     },
     "metadata": {},
     "output_type": "display_data"
    }
   ],
   "source": [
    "#Lets plot the top 15 listings\n",
    "\n",
    "# Select the top 15 listings\n",
    "top_15_listings = sorted_listings.head(15)\n",
    "\n",
    "# Create a countplot\n",
    "plt.figure(figsize=(15, 6))\n",
    "sns.barplot(x=top_15_listings.index, y=top_15_listings.values)\n",
    "plt.title('Top 15 Listings by Number of Times Listed')\n",
    "plt.xlabel('Listing ID')\n",
    "plt.ylabel('Number of Times Listed')\n",
    "plt.show()"
   ]
  },
  {
   "cell_type": "code",
   "execution_count": 558,
   "id": "1e662ddf",
   "metadata": {},
   "outputs": [],
   "source": [
    "#Similaryly we can also find the listings that have been listed the least number of times and those can also be focussed \n",
    "#upon to make sure that they list more on the platform"
   ]
  },
  {
   "cell_type": "code",
   "execution_count": null,
   "id": "eebb6e78",
   "metadata": {},
   "outputs": [],
   "source": []
  },
  {
   "cell_type": "code",
   "execution_count": 559,
   "id": "f72558bc",
   "metadata": {},
   "outputs": [],
   "source": [
    "# Q2 What percentage of listings have had repeat geusts / reviewers ? "
   ]
  },
  {
   "cell_type": "code",
   "execution_count": 560,
   "id": "0794464b",
   "metadata": {},
   "outputs": [],
   "source": [
    "#Part 1"
   ]
  },
  {
   "cell_type": "code",
   "execution_count": 561,
   "id": "78ef8b26",
   "metadata": {},
   "outputs": [],
   "source": [
    "dfr_d = pd.read_csv(\"reviews.csv\")"
   ]
  },
  {
   "cell_type": "code",
   "execution_count": 562,
   "id": "36aeedb8",
   "metadata": {},
   "outputs": [
    {
     "data": {
      "text/plain": [
       "(1581033, 6)"
      ]
     },
     "execution_count": 562,
     "metadata": {},
     "output_type": "execute_result"
    }
   ],
   "source": [
    "#Shape of the data\n",
    "dfr_d.shape"
   ]
  },
  {
   "cell_type": "code",
   "execution_count": 563,
   "id": "7a1c986a",
   "metadata": {
    "scrolled": true
   },
   "outputs": [
    {
     "data": {
      "text/html": [
       "<div>\n",
       "<style scoped>\n",
       "    .dataframe tbody tr th:only-of-type {\n",
       "        vertical-align: middle;\n",
       "    }\n",
       "\n",
       "    .dataframe tbody tr th {\n",
       "        vertical-align: top;\n",
       "    }\n",
       "\n",
       "    .dataframe thead th {\n",
       "        text-align: right;\n",
       "    }\n",
       "</style>\n",
       "<table border=\"1\" class=\"dataframe\">\n",
       "  <thead>\n",
       "    <tr style=\"text-align: right;\">\n",
       "      <th></th>\n",
       "      <th>listing_id</th>\n",
       "      <th>id</th>\n",
       "      <th>date</th>\n",
       "      <th>reviewer_id</th>\n",
       "      <th>reviewer_name</th>\n",
       "      <th>comments</th>\n",
       "    </tr>\n",
       "  </thead>\n",
       "  <tbody>\n",
       "    <tr>\n",
       "      <th>0</th>\n",
       "      <td>13913</td>\n",
       "      <td>80770</td>\n",
       "      <td>2010-08-18</td>\n",
       "      <td>177109</td>\n",
       "      <td>Michael</td>\n",
       "      <td>My girlfriend and I hadn't known Alina before ...</td>\n",
       "    </tr>\n",
       "    <tr>\n",
       "      <th>1</th>\n",
       "      <td>13913</td>\n",
       "      <td>367568</td>\n",
       "      <td>2011-07-11</td>\n",
       "      <td>19835707</td>\n",
       "      <td>Mathias</td>\n",
       "      <td>Alina was a really good host. The flat is clea...</td>\n",
       "    </tr>\n",
       "    <tr>\n",
       "      <th>2</th>\n",
       "      <td>13913</td>\n",
       "      <td>529579</td>\n",
       "      <td>2011-09-13</td>\n",
       "      <td>1110304</td>\n",
       "      <td>Kristin</td>\n",
       "      <td>Alina is an amazing host. She made me feel rig...</td>\n",
       "    </tr>\n",
       "    <tr>\n",
       "      <th>3</th>\n",
       "      <td>13913</td>\n",
       "      <td>595481</td>\n",
       "      <td>2011-10-03</td>\n",
       "      <td>1216358</td>\n",
       "      <td>Camilla</td>\n",
       "      <td>Alina's place is so nice, the room is big and ...</td>\n",
       "    </tr>\n",
       "    <tr>\n",
       "      <th>4</th>\n",
       "      <td>13913</td>\n",
       "      <td>612947</td>\n",
       "      <td>2011-10-09</td>\n",
       "      <td>490840</td>\n",
       "      <td>Jorik</td>\n",
       "      <td>Nice location in Islington area, good for shor...</td>\n",
       "    </tr>\n",
       "    <tr>\n",
       "      <th>5</th>\n",
       "      <td>13913</td>\n",
       "      <td>4847959</td>\n",
       "      <td>2013-05-28</td>\n",
       "      <td>6405442</td>\n",
       "      <td>Vera</td>\n",
       "      <td>I'm very happy to have been Alina's guest! We'...</td>\n",
       "    </tr>\n",
       "    <tr>\n",
       "      <th>6</th>\n",
       "      <td>13913</td>\n",
       "      <td>8142329</td>\n",
       "      <td>2013-10-17</td>\n",
       "      <td>9195551</td>\n",
       "      <td>Honi</td>\n",
       "      <td>I stayed with Alina in her flat in London for ...</td>\n",
       "    </tr>\n",
       "    <tr>\n",
       "      <th>7</th>\n",
       "      <td>13913</td>\n",
       "      <td>11876590</td>\n",
       "      <td>2014-04-17</td>\n",
       "      <td>5194009</td>\n",
       "      <td>Alessandro</td>\n",
       "      <td>Alina was a perfect guest and her flat is abso...</td>\n",
       "    </tr>\n",
       "    <tr>\n",
       "      <th>8</th>\n",
       "      <td>13913</td>\n",
       "      <td>46669566</td>\n",
       "      <td>2015-09-12</td>\n",
       "      <td>42970248</td>\n",
       "      <td>Oleh</td>\n",
       "      <td>Alina's flat is exceptional one.  \\r&lt;br/&gt;I hav...</td>\n",
       "    </tr>\n",
       "    <tr>\n",
       "      <th>9</th>\n",
       "      <td>13913</td>\n",
       "      <td>64559033</td>\n",
       "      <td>2016-03-05</td>\n",
       "      <td>45337884</td>\n",
       "      <td>Mo</td>\n",
       "      <td>The House is a piece of Art , there are beauti...</td>\n",
       "    </tr>\n",
       "  </tbody>\n",
       "</table>\n",
       "</div>"
      ],
      "text/plain": [
       "   listing_id        id        date  reviewer_id reviewer_name  \\\n",
       "0       13913     80770  2010-08-18       177109       Michael   \n",
       "1       13913    367568  2011-07-11     19835707       Mathias   \n",
       "2       13913    529579  2011-09-13      1110304       Kristin   \n",
       "3       13913    595481  2011-10-03      1216358       Camilla   \n",
       "4       13913    612947  2011-10-09       490840         Jorik   \n",
       "5       13913   4847959  2013-05-28      6405442          Vera   \n",
       "6       13913   8142329  2013-10-17      9195551          Honi   \n",
       "7       13913  11876590  2014-04-17      5194009    Alessandro   \n",
       "8       13913  46669566  2015-09-12     42970248          Oleh   \n",
       "9       13913  64559033  2016-03-05     45337884            Mo   \n",
       "\n",
       "                                            comments  \n",
       "0  My girlfriend and I hadn't known Alina before ...  \n",
       "1  Alina was a really good host. The flat is clea...  \n",
       "2  Alina is an amazing host. She made me feel rig...  \n",
       "3  Alina's place is so nice, the room is big and ...  \n",
       "4  Nice location in Islington area, good for shor...  \n",
       "5  I'm very happy to have been Alina's guest! We'...  \n",
       "6  I stayed with Alina in her flat in London for ...  \n",
       "7  Alina was a perfect guest and her flat is abso...  \n",
       "8  Alina's flat is exceptional one.  \\r<br/>I hav...  \n",
       "9  The House is a piece of Art , there are beauti...  "
      ]
     },
     "execution_count": 563,
     "metadata": {},
     "output_type": "execute_result"
    }
   ],
   "source": [
    "dfr_d.head(10)"
   ]
  },
  {
   "cell_type": "code",
   "execution_count": 564,
   "id": "b1019a60",
   "metadata": {},
   "outputs": [
    {
     "name": "stdout",
     "output_type": "stream",
     "text": [
      "<class 'pandas.core.frame.DataFrame'>\n",
      "RangeIndex: 1581033 entries, 0 to 1581032\n",
      "Data columns (total 6 columns):\n",
      " #   Column         Non-Null Count    Dtype \n",
      "---  ------         --------------    ----- \n",
      " 0   listing_id     1581033 non-null  int64 \n",
      " 1   id             1581033 non-null  int64 \n",
      " 2   date           1581033 non-null  object\n",
      " 3   reviewer_id    1581033 non-null  int64 \n",
      " 4   reviewer_name  1581033 non-null  object\n",
      " 5   comments       1580896 non-null  object\n",
      "dtypes: int64(3), object(3)\n",
      "memory usage: 72.4+ MB\n"
     ]
    }
   ],
   "source": [
    "#There are some reviewers that have not left comments\n",
    "dfr_d.info()"
   ]
  },
  {
   "cell_type": "code",
   "execution_count": 565,
   "id": "dc000a5e",
   "metadata": {},
   "outputs": [
    {
     "data": {
      "text/plain": [
       "listing_id         65789\n",
       "id               1581033\n",
       "date                4649\n",
       "reviewer_id      1336881\n",
       "reviewer_name     156207\n",
       "comments         1519862\n",
       "dtype: int64"
      ]
     },
     "execution_count": 565,
     "metadata": {},
     "output_type": "execute_result"
    }
   ],
   "source": [
    "dfr_d.nunique()"
   ]
  },
  {
   "cell_type": "code",
   "execution_count": 566,
   "id": "d9984daf",
   "metadata": {},
   "outputs": [],
   "source": [
    "#Part 2"
   ]
  },
  {
   "cell_type": "code",
   "execution_count": 567,
   "id": "f00e6524",
   "metadata": {},
   "outputs": [
    {
     "name": "stdout",
     "output_type": "stream",
     "text": [
      "Number of listing_id with Non-Unique Reviewer IDs: 11253\n",
      "Percentage relative to Total Number of listing_id: 17.1\n"
     ]
    }
   ],
   "source": [
    "# Find non-unique reviewer_id for each listing_id\n",
    "non_unique_reviewers_by_listing = dfr_d[dfr_d.duplicated(['listing_id', 'reviewer_id'], keep=False)]\n",
    "\n",
    "# Count the number of listing_id with non-unique reviewer_id\n",
    "num_listing_with_non_unique_reviewers = non_unique_reviewers_by_listing['listing_id'].nunique()\n",
    "\n",
    "# Calculate the percentage relative to the total number of listing_id\n",
    "total_listing_ids = dfr_d['listing_id'].nunique()\n",
    "percentage = (num_listing_with_non_unique_reviewers / total_listing_ids) * 100\n",
    "\n",
    "# Print the results\n",
    "print(\"Number of listing_id with Non-Unique Reviewer IDs:\", num_listing_with_non_unique_reviewers)\n",
    "print(\"Percentage relative to Total Number of listing_id:\", round(percentage,2))"
   ]
  },
  {
   "cell_type": "code",
   "execution_count": 568,
   "id": "6b69c28a",
   "metadata": {},
   "outputs": [],
   "source": [
    "#17% of lisitings have had repeat customers"
   ]
  },
  {
   "cell_type": "code",
   "execution_count": null,
   "id": "9d5a55a7",
   "metadata": {},
   "outputs": [],
   "source": []
  },
  {
   "cell_type": "code",
   "execution_count": 569,
   "id": "c34eb807",
   "metadata": {},
   "outputs": [],
   "source": [
    "#Q3 In London what is the distribution of the types of rooms and in each neighborhood for each type of room what is the\n",
    "# average price ?"
   ]
  },
  {
   "cell_type": "code",
   "execution_count": 570,
   "id": "b4ed7169",
   "metadata": {},
   "outputs": [],
   "source": [
    "#Part 1"
   ]
  },
  {
   "cell_type": "code",
   "execution_count": 571,
   "id": "51689362",
   "metadata": {},
   "outputs": [],
   "source": [
    "dfl_b = pd.read_csv(\"listings_brief.csv\")"
   ]
  },
  {
   "cell_type": "code",
   "execution_count": 572,
   "id": "a85369cc",
   "metadata": {},
   "outputs": [
    {
     "data": {
      "text/plain": [
       "(87947, 18)"
      ]
     },
     "execution_count": 572,
     "metadata": {},
     "output_type": "execute_result"
    }
   ],
   "source": [
    "#Shape of the data\n",
    "dfl_b.shape"
   ]
  },
  {
   "cell_type": "code",
   "execution_count": 573,
   "id": "dd68a07f",
   "metadata": {},
   "outputs": [
    {
     "data": {
      "text/html": [
       "<div>\n",
       "<style scoped>\n",
       "    .dataframe tbody tr th:only-of-type {\n",
       "        vertical-align: middle;\n",
       "    }\n",
       "\n",
       "    .dataframe tbody tr th {\n",
       "        vertical-align: top;\n",
       "    }\n",
       "\n",
       "    .dataframe thead th {\n",
       "        text-align: right;\n",
       "    }\n",
       "</style>\n",
       "<table border=\"1\" class=\"dataframe\">\n",
       "  <thead>\n",
       "    <tr style=\"text-align: right;\">\n",
       "      <th></th>\n",
       "      <th>id</th>\n",
       "      <th>name</th>\n",
       "      <th>host_id</th>\n",
       "      <th>host_name</th>\n",
       "      <th>neighbourhood_group</th>\n",
       "      <th>neighbourhood</th>\n",
       "      <th>latitude</th>\n",
       "      <th>longitude</th>\n",
       "      <th>room_type</th>\n",
       "      <th>price</th>\n",
       "      <th>minimum_nights</th>\n",
       "      <th>number_of_reviews</th>\n",
       "      <th>last_review</th>\n",
       "      <th>reviews_per_month</th>\n",
       "      <th>calculated_host_listings_count</th>\n",
       "      <th>availability_365</th>\n",
       "      <th>number_of_reviews_ltm</th>\n",
       "      <th>license</th>\n",
       "    </tr>\n",
       "  </thead>\n",
       "  <tbody>\n",
       "    <tr>\n",
       "      <th>0</th>\n",
       "      <td>13913</td>\n",
       "      <td>Rental unit in Islington · ★4.80 · 1 bedroom ·...</td>\n",
       "      <td>54730</td>\n",
       "      <td>Alina</td>\n",
       "      <td>NaN</td>\n",
       "      <td>Islington</td>\n",
       "      <td>51.56861</td>\n",
       "      <td>-0.11270</td>\n",
       "      <td>Private room</td>\n",
       "      <td>79</td>\n",
       "      <td>1</td>\n",
       "      <td>41</td>\n",
       "      <td>2022-12-11</td>\n",
       "      <td>0.26</td>\n",
       "      <td>2</td>\n",
       "      <td>360</td>\n",
       "      <td>11</td>\n",
       "      <td>NaN</td>\n",
       "    </tr>\n",
       "    <tr>\n",
       "      <th>1</th>\n",
       "      <td>15400</td>\n",
       "      <td>Rental unit in London · ★4.80 · 1 bedroom · 1 ...</td>\n",
       "      <td>60302</td>\n",
       "      <td>Philippa</td>\n",
       "      <td>NaN</td>\n",
       "      <td>Kensington and Chelsea</td>\n",
       "      <td>51.48780</td>\n",
       "      <td>-0.16813</td>\n",
       "      <td>Entire home/apt</td>\n",
       "      <td>150</td>\n",
       "      <td>7</td>\n",
       "      <td>94</td>\n",
       "      <td>2023-05-01</td>\n",
       "      <td>0.56</td>\n",
       "      <td>1</td>\n",
       "      <td>73</td>\n",
       "      <td>5</td>\n",
       "      <td>NaN</td>\n",
       "    </tr>\n",
       "    <tr>\n",
       "      <th>2</th>\n",
       "      <td>92644</td>\n",
       "      <td>Rental unit in Earlsfield · ★4.57 · 1 bedroom ...</td>\n",
       "      <td>498201</td>\n",
       "      <td>Dee Dee</td>\n",
       "      <td>NaN</td>\n",
       "      <td>Wandsworth</td>\n",
       "      <td>51.44201</td>\n",
       "      <td>-0.18739</td>\n",
       "      <td>Private room</td>\n",
       "      <td>42</td>\n",
       "      <td>2</td>\n",
       "      <td>216</td>\n",
       "      <td>2022-10-29</td>\n",
       "      <td>1.45</td>\n",
       "      <td>1</td>\n",
       "      <td>217</td>\n",
       "      <td>9</td>\n",
       "      <td>NaN</td>\n",
       "    </tr>\n",
       "    <tr>\n",
       "      <th>3</th>\n",
       "      <td>17402</td>\n",
       "      <td>Rental unit in London · ★4.76 · 3 bedrooms · 3...</td>\n",
       "      <td>67564</td>\n",
       "      <td>Liz</td>\n",
       "      <td>NaN</td>\n",
       "      <td>Westminster</td>\n",
       "      <td>51.52195</td>\n",
       "      <td>-0.14094</td>\n",
       "      <td>Entire home/apt</td>\n",
       "      <td>476</td>\n",
       "      <td>3</td>\n",
       "      <td>54</td>\n",
       "      <td>2022-11-19</td>\n",
       "      <td>0.36</td>\n",
       "      <td>9</td>\n",
       "      <td>300</td>\n",
       "      <td>4</td>\n",
       "      <td>NaN</td>\n",
       "    </tr>\n",
       "    <tr>\n",
       "      <th>4</th>\n",
       "      <td>93015</td>\n",
       "      <td>Rental unit in Hammersmith · ★4.82 · 2 bedroom...</td>\n",
       "      <td>499704</td>\n",
       "      <td>Sarah</td>\n",
       "      <td>NaN</td>\n",
       "      <td>Hammersmith and Fulham</td>\n",
       "      <td>51.49993</td>\n",
       "      <td>-0.21707</td>\n",
       "      <td>Entire home/apt</td>\n",
       "      <td>175</td>\n",
       "      <td>5</td>\n",
       "      <td>38</td>\n",
       "      <td>2022-09-30</td>\n",
       "      <td>0.27</td>\n",
       "      <td>1</td>\n",
       "      <td>40</td>\n",
       "      <td>2</td>\n",
       "      <td>NaN</td>\n",
       "    </tr>\n",
       "    <tr>\n",
       "      <th>5</th>\n",
       "      <td>93734</td>\n",
       "      <td>Condo in London · ★4.62 · 1 bedroom · 1 bed · ...</td>\n",
       "      <td>497514</td>\n",
       "      <td>William</td>\n",
       "      <td>NaN</td>\n",
       "      <td>Greenwich</td>\n",
       "      <td>51.47618</td>\n",
       "      <td>0.01442</td>\n",
       "      <td>Private room</td>\n",
       "      <td>46</td>\n",
       "      <td>4</td>\n",
       "      <td>180</td>\n",
       "      <td>2023-09-02</td>\n",
       "      <td>1.21</td>\n",
       "      <td>1</td>\n",
       "      <td>196</td>\n",
       "      <td>25</td>\n",
       "      <td>NaN</td>\n",
       "    </tr>\n",
       "    <tr>\n",
       "      <th>6</th>\n",
       "      <td>24328</td>\n",
       "      <td>Townhouse in London · ★4.90 · 1 bedroom · 1 be...</td>\n",
       "      <td>41759</td>\n",
       "      <td>Joe</td>\n",
       "      <td>NaN</td>\n",
       "      <td>Wandsworth</td>\n",
       "      <td>51.47072</td>\n",
       "      <td>-0.16266</td>\n",
       "      <td>Entire home/apt</td>\n",
       "      <td>250</td>\n",
       "      <td>2</td>\n",
       "      <td>96</td>\n",
       "      <td>2022-07-19</td>\n",
       "      <td>0.62</td>\n",
       "      <td>1</td>\n",
       "      <td>0</td>\n",
       "      <td>0</td>\n",
       "      <td>NaN</td>\n",
       "    </tr>\n",
       "    <tr>\n",
       "      <th>7</th>\n",
       "      <td>93783</td>\n",
       "      <td>Rental unit in London · ★4.73 · 2 bedrooms · 3...</td>\n",
       "      <td>502496</td>\n",
       "      <td>Darshi Rowan And Tara</td>\n",
       "      <td>NaN</td>\n",
       "      <td>Westminster</td>\n",
       "      <td>51.51881</td>\n",
       "      <td>-0.19650</td>\n",
       "      <td>Entire home/apt</td>\n",
       "      <td>371</td>\n",
       "      <td>5</td>\n",
       "      <td>24</td>\n",
       "      <td>2023-05-29</td>\n",
       "      <td>0.16</td>\n",
       "      <td>1</td>\n",
       "      <td>266</td>\n",
       "      <td>3</td>\n",
       "      <td>NaN</td>\n",
       "    </tr>\n",
       "    <tr>\n",
       "      <th>8</th>\n",
       "      <td>25123</td>\n",
       "      <td>Home in Barnet · ★4.78 · 1 bedroom · 1 bed · 1...</td>\n",
       "      <td>103583</td>\n",
       "      <td>Grace</td>\n",
       "      <td>NaN</td>\n",
       "      <td>Barnet</td>\n",
       "      <td>51.57438</td>\n",
       "      <td>-0.21081</td>\n",
       "      <td>Private room</td>\n",
       "      <td>29</td>\n",
       "      <td>10</td>\n",
       "      <td>129</td>\n",
       "      <td>2020-03-15</td>\n",
       "      <td>0.79</td>\n",
       "      <td>3</td>\n",
       "      <td>0</td>\n",
       "      <td>0</td>\n",
       "      <td>NaN</td>\n",
       "    </tr>\n",
       "    <tr>\n",
       "      <th>9</th>\n",
       "      <td>94138</td>\n",
       "      <td>Rental unit in Poplar · ★4.85 · 1 bedroom · 1 ...</td>\n",
       "      <td>503548</td>\n",
       "      <td>Carl</td>\n",
       "      <td>NaN</td>\n",
       "      <td>Tower Hamlets</td>\n",
       "      <td>51.52764</td>\n",
       "      <td>-0.05293</td>\n",
       "      <td>Entire home/apt</td>\n",
       "      <td>75</td>\n",
       "      <td>2</td>\n",
       "      <td>42</td>\n",
       "      <td>2020-03-05</td>\n",
       "      <td>0.64</td>\n",
       "      <td>1</td>\n",
       "      <td>0</td>\n",
       "      <td>0</td>\n",
       "      <td>NaN</td>\n",
       "    </tr>\n",
       "  </tbody>\n",
       "</table>\n",
       "</div>"
      ],
      "text/plain": [
       "      id                                               name  host_id  \\\n",
       "0  13913  Rental unit in Islington · ★4.80 · 1 bedroom ·...    54730   \n",
       "1  15400  Rental unit in London · ★4.80 · 1 bedroom · 1 ...    60302   \n",
       "2  92644  Rental unit in Earlsfield · ★4.57 · 1 bedroom ...   498201   \n",
       "3  17402  Rental unit in London · ★4.76 · 3 bedrooms · 3...    67564   \n",
       "4  93015  Rental unit in Hammersmith · ★4.82 · 2 bedroom...   499704   \n",
       "5  93734  Condo in London · ★4.62 · 1 bedroom · 1 bed · ...   497514   \n",
       "6  24328  Townhouse in London · ★4.90 · 1 bedroom · 1 be...    41759   \n",
       "7  93783  Rental unit in London · ★4.73 · 2 bedrooms · 3...   502496   \n",
       "8  25123  Home in Barnet · ★4.78 · 1 bedroom · 1 bed · 1...   103583   \n",
       "9  94138  Rental unit in Poplar · ★4.85 · 1 bedroom · 1 ...   503548   \n",
       "\n",
       "               host_name  neighbourhood_group           neighbourhood  \\\n",
       "0                  Alina                  NaN               Islington   \n",
       "1               Philippa                  NaN  Kensington and Chelsea   \n",
       "2                Dee Dee                  NaN              Wandsworth   \n",
       "3                    Liz                  NaN             Westminster   \n",
       "4                  Sarah                  NaN  Hammersmith and Fulham   \n",
       "5                William                  NaN               Greenwich   \n",
       "6                    Joe                  NaN              Wandsworth   \n",
       "7  Darshi Rowan And Tara                  NaN             Westminster   \n",
       "8                  Grace                  NaN                  Barnet   \n",
       "9                   Carl                  NaN           Tower Hamlets   \n",
       "\n",
       "   latitude  longitude        room_type  price  minimum_nights  \\\n",
       "0  51.56861   -0.11270     Private room     79               1   \n",
       "1  51.48780   -0.16813  Entire home/apt    150               7   \n",
       "2  51.44201   -0.18739     Private room     42               2   \n",
       "3  51.52195   -0.14094  Entire home/apt    476               3   \n",
       "4  51.49993   -0.21707  Entire home/apt    175               5   \n",
       "5  51.47618    0.01442     Private room     46               4   \n",
       "6  51.47072   -0.16266  Entire home/apt    250               2   \n",
       "7  51.51881   -0.19650  Entire home/apt    371               5   \n",
       "8  51.57438   -0.21081     Private room     29              10   \n",
       "9  51.52764   -0.05293  Entire home/apt     75               2   \n",
       "\n",
       "   number_of_reviews last_review  reviews_per_month  \\\n",
       "0                 41  2022-12-11               0.26   \n",
       "1                 94  2023-05-01               0.56   \n",
       "2                216  2022-10-29               1.45   \n",
       "3                 54  2022-11-19               0.36   \n",
       "4                 38  2022-09-30               0.27   \n",
       "5                180  2023-09-02               1.21   \n",
       "6                 96  2022-07-19               0.62   \n",
       "7                 24  2023-05-29               0.16   \n",
       "8                129  2020-03-15               0.79   \n",
       "9                 42  2020-03-05               0.64   \n",
       "\n",
       "   calculated_host_listings_count  availability_365  number_of_reviews_ltm  \\\n",
       "0                               2               360                     11   \n",
       "1                               1                73                      5   \n",
       "2                               1               217                      9   \n",
       "3                               9               300                      4   \n",
       "4                               1                40                      2   \n",
       "5                               1               196                     25   \n",
       "6                               1                 0                      0   \n",
       "7                               1               266                      3   \n",
       "8                               3                 0                      0   \n",
       "9                               1                 0                      0   \n",
       "\n",
       "  license  \n",
       "0     NaN  \n",
       "1     NaN  \n",
       "2     NaN  \n",
       "3     NaN  \n",
       "4     NaN  \n",
       "5     NaN  \n",
       "6     NaN  \n",
       "7     NaN  \n",
       "8     NaN  \n",
       "9     NaN  "
      ]
     },
     "execution_count": 573,
     "metadata": {},
     "output_type": "execute_result"
    }
   ],
   "source": [
    "dfl_b.head(10)"
   ]
  },
  {
   "cell_type": "code",
   "execution_count": 574,
   "id": "d6046953",
   "metadata": {},
   "outputs": [
    {
     "name": "stdout",
     "output_type": "stream",
     "text": [
      "<class 'pandas.core.frame.DataFrame'>\n",
      "RangeIndex: 87947 entries, 0 to 87946\n",
      "Data columns (total 18 columns):\n",
      " #   Column                          Non-Null Count  Dtype  \n",
      "---  ------                          --------------  -----  \n",
      " 0   id                              87947 non-null  int64  \n",
      " 1   name                            87947 non-null  object \n",
      " 2   host_id                         87947 non-null  int64  \n",
      " 3   host_name                       87941 non-null  object \n",
      " 4   neighbourhood_group             0 non-null      float64\n",
      " 5   neighbourhood                   87947 non-null  object \n",
      " 6   latitude                        87947 non-null  float64\n",
      " 7   longitude                       87947 non-null  float64\n",
      " 8   room_type                       87947 non-null  object \n",
      " 9   price                           87947 non-null  int64  \n",
      " 10  minimum_nights                  87947 non-null  int64  \n",
      " 11  number_of_reviews               87947 non-null  int64  \n",
      " 12  last_review                     65789 non-null  object \n",
      " 13  reviews_per_month               65789 non-null  float64\n",
      " 14  calculated_host_listings_count  87947 non-null  int64  \n",
      " 15  availability_365                87947 non-null  int64  \n",
      " 16  number_of_reviews_ltm           87947 non-null  int64  \n",
      " 17  license                         1 non-null      object \n",
      "dtypes: float64(4), int64(8), object(6)\n",
      "memory usage: 12.1+ MB\n"
     ]
    }
   ],
   "source": [
    "#neighborhood group and license have a lot of null values\n",
    "dfl_b.info()"
   ]
  },
  {
   "cell_type": "code",
   "execution_count": 575,
   "id": "a940e569",
   "metadata": {},
   "outputs": [
    {
     "data": {
      "text/plain": [
       "id                                87947\n",
       "name                              21357\n",
       "host_id                           53395\n",
       "host_name                         14976\n",
       "neighbourhood_group                   0\n",
       "neighbourhood                        33\n",
       "latitude                          43097\n",
       "longitude                         52917\n",
       "room_type                             4\n",
       "price                              1403\n",
       "minimum_nights                      118\n",
       "number_of_reviews                   488\n",
       "last_review                        3023\n",
       "reviews_per_month                   944\n",
       "calculated_host_listings_count       92\n",
       "availability_365                    366\n",
       "number_of_reviews_ltm               153\n",
       "license                               1\n",
       "dtype: int64"
      ]
     },
     "execution_count": 575,
     "metadata": {},
     "output_type": "execute_result"
    }
   ],
   "source": [
    "dfl_b.nunique()"
   ]
  },
  {
   "cell_type": "code",
   "execution_count": 576,
   "id": "79a51d00",
   "metadata": {},
   "outputs": [],
   "source": [
    "#Part 2"
   ]
  },
  {
   "cell_type": "code",
   "execution_count": 577,
   "id": "d7020678",
   "metadata": {},
   "outputs": [
    {
     "data": {
      "text/plain": [
       "Entire home/apt    54576\n",
       "Private room       32711\n",
       "Shared room          441\n",
       "Hotel room           219\n",
       "Name: room_type, dtype: int64"
      ]
     },
     "execution_count": 577,
     "metadata": {},
     "output_type": "execute_result"
    }
   ],
   "source": [
    "dfl_b['room_type'].value_counts()"
   ]
  },
  {
   "cell_type": "code",
   "execution_count": 578,
   "id": "a1d0f28f",
   "metadata": {},
   "outputs": [
    {
     "data": {
      "image/png": "[encoded data removed]",
      "text/plain": [
       "<Figure size 720x576 with 1 Axes>"
      ]
     },
     "metadata": {},
     "output_type": "display_data"
    }
   ],
   "source": [
    "ssn = dfl_b['room_type'].value_counts()\n",
    "plt.style.use('seaborn')\n",
    "plt.figure(figsize = (10, 8))\n",
    "plt.pie(ssn.values, labels = ssn.index, autopct = '%1.1f%%')\n",
    "plt.title('Room_Type', fontdict = {'fontname' : 'Monospace','fontsize' : 30, 'fontweight' : 'bold'})\n",
    "plt.legend()\n",
    "plt.axis('equal')\n",
    "plt.show()"
   ]
  },
  {
   "cell_type": "code",
   "execution_count": 579,
   "id": "0ae3727d",
   "metadata": {},
   "outputs": [],
   "source": [
    "# Group by 'neighbourhood' and 'room_type' and calculate the average price\n",
    "average_price_by_neighbourhood_room_type = dfl_b.groupby(['neighbourhood', 'room_type'])['price'].mean()"
   ]
  },
  {
   "cell_type": "code",
   "execution_count": 580,
   "id": "3e9f280d",
   "metadata": {},
   "outputs": [],
   "source": [
    "# Resetting the index for a cleaner result\n",
    "average_price_by_neighbourhood_room_type = average_price_by_neighbourhood_room_type.reset_index()"
   ]
  },
  {
   "cell_type": "code",
   "execution_count": 581,
   "id": "1c2fbbfa",
   "metadata": {},
   "outputs": [
    {
     "name": "stdout",
     "output_type": "stream",
     "text": [
      "Average Price by Neighbourhood and Room Type:\n",
      "            neighbourhood        room_type       price\n",
      "0    Barking and Dagenham  Entire home/apt  454.200000\n",
      "1    Barking and Dagenham     Private room   60.693878\n",
      "2    Barking and Dagenham      Shared room   89.400000\n",
      "3                  Barnet  Entire home/apt  186.717563\n",
      "4                  Barnet       Hotel room   89.000000\n",
      "..                    ...              ...         ...\n",
      "111            Wandsworth      Shared room  117.071429\n",
      "112           Westminster  Entire home/apt  357.428904\n",
      "113           Westminster       Hotel room  447.840909\n",
      "114           Westminster     Private room  188.632210\n",
      "115           Westminster      Shared room  236.730769\n",
      "\n",
      "[116 rows x 3 columns]\n"
     ]
    }
   ],
   "source": [
    "# Print the result\n",
    "print(\"Average Price by Neighbourhood and Room Type:\")\n",
    "print(average_price_by_neighbourhood_room_type)"
   ]
  },
  {
   "cell_type": "code",
   "execution_count": null,
   "id": "ccf6a8da",
   "metadata": {},
   "outputs": [],
   "source": []
  },
  {
   "cell_type": "code",
   "execution_count": 582,
   "id": "7be27cd0",
   "metadata": {},
   "outputs": [],
   "source": [
    "#Q4 What is the distribution of minimum number of nights and average price per minimum number of nights ?"
   ]
  },
  {
   "cell_type": "code",
   "execution_count": 583,
   "id": "aa61affd",
   "metadata": {},
   "outputs": [],
   "source": [
    "#Part 2"
   ]
  },
  {
   "cell_type": "code",
   "execution_count": 584,
   "id": "fa718153",
   "metadata": {},
   "outputs": [
    {
     "data": {
      "text/plain": [
       "1      25886\n",
       "2      21704\n",
       "3      15768\n",
       "5       5998\n",
       "4       5603\n",
       "       ...  \n",
       "64         1\n",
       "69         1\n",
       "94         1\n",
       "85         1\n",
       "184        1\n",
       "Name: minimum_nights, Length: 118, dtype: int64"
      ]
     },
     "execution_count": 584,
     "metadata": {},
     "output_type": "execute_result"
    }
   ],
   "source": [
    "dfl_b['minimum_nights'].value_counts()"
   ]
  },
  {
   "cell_type": "code",
   "execution_count": 585,
   "id": "ec20f521",
   "metadata": {},
   "outputs": [
    {
     "data": {
      "image/png": "[encoded data removed]",
      "text/plain": [
       "<Figure size 720x576 with 1 Axes>"
      ]
     },
     "metadata": {},
     "output_type": "display_data"
    }
   ],
   "source": [
    "ssn = dfl_b['minimum_nights'].value_counts()\n",
    "plt.style.use('seaborn')\n",
    "plt.figure(figsize = (10, 8))\n",
    "plt.pie(ssn.values, labels = ssn.index, autopct = '%1.1f%%')\n",
    "plt.title('Minimum Nights', fontdict = {'fontname' : 'Monospace','fontsize' : 30, 'fontweight' : 'bold'})\n",
    "plt.legend()\n",
    "plt.axis('equal')\n",
    "plt.show()"
   ]
  },
  {
   "cell_type": "code",
   "execution_count": 586,
   "id": "a95c9335",
   "metadata": {},
   "outputs": [
    {
     "data": {
      "text/plain": [
       "91.9212707653473"
      ]
     },
     "execution_count": 586,
     "metadata": {},
     "output_type": "execute_result"
    }
   ],
   "source": [
    "#Around 91% of AriBnb take bookings for 7 nights or less\n",
    "len(dfl_b[dfl_b['minimum_nights'] <= 7]) / len(dfl_b) * 100 "
   ]
  },
  {
   "cell_type": "code",
   "execution_count": 587,
   "id": "ac4d3c4c",
   "metadata": {},
   "outputs": [],
   "source": [
    "# Filter the DataFrame for minimum number of nights less than or equal to 7\n",
    "filtered_df = dfl_b[dfl_b['minimum_nights'] <= 7]"
   ]
  },
  {
   "cell_type": "code",
   "execution_count": 588,
   "id": "686e375f",
   "metadata": {},
   "outputs": [],
   "source": [
    "# Calculate the average price per minimum number of nights\n",
    "average_price_per_night = filtered_df.groupby('minimum_nights')['price'].mean()"
   ]
  },
  {
   "cell_type": "code",
   "execution_count": 589,
   "id": "7f423873",
   "metadata": {},
   "outputs": [
    {
     "name": "stdout",
     "output_type": "stream",
     "text": [
      "Average Price per Minimum Number of Nights (<= 7):\n",
      "minimum_nights\n",
      "1    148.652669\n",
      "2    165.908588\n",
      "3    201.078387\n",
      "4    191.834374\n",
      "5    247.412304\n",
      "6    183.832093\n",
      "7    237.864784\n",
      "Name: price, dtype: float64\n"
     ]
    }
   ],
   "source": [
    "# Print the result\n",
    "print(\"Average Price per Minimum Number of Nights (<= 7):\")\n",
    "print(average_price_per_night)"
   ]
  },
  {
   "cell_type": "code",
   "execution_count": 590,
   "id": "b7b50476",
   "metadata": {},
   "outputs": [
    {
     "data": {
      "image/png": "[encoded data removed]",
      "text/plain": [
       "<Figure size 720x432 with 1 Axes>"
      ]
     },
     "metadata": {},
     "output_type": "display_data"
    }
   ],
   "source": [
    "# Create a bar plot\n",
    "plt.figure(figsize=(10, 6))\n",
    "sns.barplot(x='minimum_nights', y='price', data=average_price_per_night.to_frame().reset_index(), palette=\"viridis\")\n",
    "plt.title('Average Price per Minimum Number of Nights (<= 7)')\n",
    "plt.xlabel('Minimum Number of Nights')\n",
    "plt.ylabel('Average Price')\n",
    "plt.show()"
   ]
  },
  {
   "cell_type": "code",
   "execution_count": 591,
   "id": "7854e67e",
   "metadata": {},
   "outputs": [],
   "source": [
    "#As minimum number of nights increase the Aaverage price also increases with some fluctations. 5 nights booking has the \n",
    "# highest price"
   ]
  },
  {
   "cell_type": "code",
   "execution_count": null,
   "id": "52df9fb3",
   "metadata": {},
   "outputs": [],
   "source": []
  },
  {
   "cell_type": "code",
   "execution_count": 592,
   "id": "b1a85fe1",
   "metadata": {},
   "outputs": [],
   "source": [
    "#Q5 What is the average number of reviews per neighrborhood and are high rated neighborhoods also the most expensive ones ?"
   ]
  },
  {
   "cell_type": "code",
   "execution_count": 593,
   "id": "5ad2830d",
   "metadata": {},
   "outputs": [],
   "source": [
    "#Part 2"
   ]
  },
  {
   "cell_type": "code",
   "execution_count": 594,
   "id": "cf62166c",
   "metadata": {},
   "outputs": [],
   "source": [
    "# Calculate the average number of reviews per neighborhood\n",
    "average_reviews_by_neighborhood = dfl_b.groupby('neighbourhood')['number_of_reviews'].mean()"
   ]
  },
  {
   "cell_type": "code",
   "execution_count": 595,
   "id": "4bfaa505",
   "metadata": {},
   "outputs": [
    {
     "name": "stdout",
     "output_type": "stream",
     "text": [
      "Top 5 Neighborhoods with Highest Average Number of Reviews:\n",
      "neighbourhood\n",
      "City of London          27.559701\n",
      "Camden                  24.888657\n",
      "Richmond upon Thames    23.880668\n",
      "Hillingdon              22.100811\n",
      "Lambeth                 21.043988\n",
      "Name: number_of_reviews, dtype: float64\n"
     ]
    }
   ],
   "source": [
    "# Print the top 5 neighborhoods with the highest average number of reviews\n",
    "top_5_neighborhoods = average_reviews_by_neighborhood.sort_values(ascending=False).head(5)\n",
    "print(\"Top 5 Neighborhoods with Highest Average Number of Reviews:\")\n",
    "print(top_5_neighborhoods)"
   ]
  },
  {
   "cell_type": "code",
   "execution_count": 596,
   "id": "21271d7b",
   "metadata": {},
   "outputs": [],
   "source": [
    "#Calculate average price per neighborhood\n",
    "average_price_by_neighborhood = dfl_b.groupby('neighbourhood')['price'].mean()"
   ]
  },
  {
   "cell_type": "code",
   "execution_count": 597,
   "id": "3f514b40",
   "metadata": {},
   "outputs": [
    {
     "name": "stdout",
     "output_type": "stream",
     "text": [
      "Top 5 Neighborhoods with Highest prices:\n",
      "neighbourhood\n",
      "Westminster               320.591373\n",
      "Kensington and Chelsea    307.432795\n",
      "Barking and Dagenham      245.840426\n",
      "City of London            243.722015\n",
      "Camden                    203.288171\n",
      "Name: price, dtype: float64\n"
     ]
    }
   ],
   "source": [
    "# Print the top 5 neighborhoods with the highest price\n",
    "top_5_neighborhoods = average_price_by_neighborhood.sort_values(ascending=False).head(5)\n",
    "print(\"Top 5 Neighborhoods with Highest prices:\")\n",
    "print(top_5_neighborhoods)"
   ]
  },
  {
   "cell_type": "code",
   "execution_count": 598,
   "id": "8665c546",
   "metadata": {},
   "outputs": [],
   "source": [
    "import scipy.stats\n",
    "def get_correlation(series1, series2):\n",
    "    # Check if the series are normally distributed\n",
    "    _, p_value1 = scipy.stats.shapiro(series1)\n",
    "    _, p_value2 = scipy.stats.shapiro(series2)\n",
    "    \n",
    "    # Set the correlation method based on normality tests\n",
    "    if p_value1 > 0.05 and p_value2 > 0.05:  # If both are normally distributed\n",
    "        correlation_coef, _ = scipy.stats.pearsonr(series1, series2)\n",
    "        correlation_method = 'Pearson'\n",
    "    else:\n",
    "        correlation_coef, _ = scipy.stats.spearmanr(series1, series2)\n",
    "        correlation_method = 'Spearman'\n",
    "    \n",
    "    return correlation_coef, correlation_method"
   ]
  },
  {
   "cell_type": "code",
   "execution_count": 599,
   "id": "8d95276a",
   "metadata": {},
   "outputs": [
    {
     "data": {
      "text/plain": [
       "(0.4632352941176471, 'Spearman')"
      ]
     },
     "execution_count": 599,
     "metadata": {},
     "output_type": "execute_result"
    }
   ],
   "source": [
    "get_correlation(average_reviews_by_neighborhood, average_price_by_neighborhood)"
   ]
  },
  {
   "cell_type": "code",
   "execution_count": 600,
   "id": "312770c6",
   "metadata": {},
   "outputs": [],
   "source": [
    "#0.46 means a moderate correlation exists between the number reviews and the price of neighborhoods. So yes the most high\n",
    "# rated neighborhoods are also the most expensive ones"
   ]
  },
  {
   "cell_type": "code",
   "execution_count": null,
   "id": "96ac7ddf",
   "metadata": {},
   "outputs": [],
   "source": []
  },
  {
   "cell_type": "code",
   "execution_count": 601,
   "id": "41f53d78",
   "metadata": {},
   "outputs": [],
   "source": [
    "#Q6 What is the average number of reviews per month that a listing gets and what are the top five listings by reviews per \n",
    "# month ?"
   ]
  },
  {
   "cell_type": "code",
   "execution_count": 602,
   "id": "1541b7ae",
   "metadata": {},
   "outputs": [],
   "source": [
    "# Calculate the average number of reviews per month for all listings\n",
    "average_reviews_per_month_all_listings = dfl_b['reviews_per_month'].mean()"
   ]
  },
  {
   "cell_type": "code",
   "execution_count": 603,
   "id": "ce9b6fe5",
   "metadata": {},
   "outputs": [
    {
     "name": "stdout",
     "output_type": "stream",
     "text": [
      "Average Number of Reviews per Month for All Listings: 1.01\n"
     ]
    }
   ],
   "source": [
    "# Print the result\n",
    "print(\"Average Number of Reviews per Month for All Listings:\", round(average_reviews_per_month_all_listings,2))"
   ]
  },
  {
   "cell_type": "code",
   "execution_count": 604,
   "id": "84c0e324",
   "metadata": {},
   "outputs": [],
   "source": [
    "#Top 5 listings by number of reivews per month"
   ]
  },
  {
   "cell_type": "code",
   "execution_count": 605,
   "id": "b49900bb",
   "metadata": {},
   "outputs": [
    {
     "name": "stdout",
     "output_type": "stream",
     "text": [
      "\n",
      "Top 5 Listings by Reviews per Month:\n",
      "                       id  reviews_per_month\n",
      "42985            47408549              50.25\n",
      "72685  879651617475418286              41.79\n",
      "40309            43120947              32.80\n",
      "29781            30760930              27.38\n",
      "43008            47438714              24.00\n"
     ]
    }
   ],
   "source": [
    "# Find the top 5 listings sorted by reviews per month\n",
    "top_5_listings_by_reviews_per_month = dfl_b.sort_values(by='reviews_per_month', ascending=False).head(5)\n",
    "\n",
    "# Print the top 5 listings\n",
    "print(\"\\nTop 5 Listings by Reviews per Month:\")\n",
    "print(top_5_listings_by_reviews_per_month[['id', 'reviews_per_month']])"
   ]
  },
  {
   "cell_type": "code",
   "execution_count": null,
   "id": "902cf120",
   "metadata": {},
   "outputs": [],
   "source": []
  },
  {
   "cell_type": "code",
   "execution_count": 606,
   "id": "7d8f1b62",
   "metadata": {},
   "outputs": [],
   "source": [
    "#Q7 How does the price, number of reviews and minumum nights vary by room type ?"
   ]
  },
  {
   "cell_type": "code",
   "execution_count": 607,
   "id": "c38e2586",
   "metadata": {},
   "outputs": [],
   "source": [
    "#Part 2 "
   ]
  },
  {
   "cell_type": "code",
   "execution_count": 608,
   "id": "2e8f0542",
   "metadata": {},
   "outputs": [],
   "source": [
    "# Descriptive statistics by room type\n",
    "room_type_stats = dfl_b.groupby('room_type').agg({\n",
    "    'price': 'mean',\n",
    "    'number_of_reviews': 'mean',\n",
    "    'minimum_nights': 'mean'\n",
    "}).reset_index()"
   ]
  },
  {
   "cell_type": "code",
   "execution_count": 609,
   "id": "9d0164f0",
   "metadata": {},
   "outputs": [
    {
     "name": "stdout",
     "output_type": "stream",
     "text": [
      "Descriptive Statistics by Room Type:\n",
      "         room_type       price  number_of_reviews  minimum_nights\n",
      "0  Entire home/apt  230.167198          14.356146        6.206941\n",
      "1       Hotel room  256.095890          27.570776        1.844749\n",
      "2     Private room  100.231207          23.945829        4.672893\n",
      "3      Shared room  119.716553          18.598639        4.712018\n"
     ]
    }
   ],
   "source": [
    "# Print descriptive statistics\n",
    "print(\"Descriptive Statistics by Room Type:\")\n",
    "print(room_type_stats)"
   ]
  },
  {
   "cell_type": "code",
   "execution_count": 610,
   "id": "4a6f2c5a",
   "metadata": {},
   "outputs": [
    {
     "data": {
      "text/plain": [
       "Text(0, 0.5, 'Average Price')"
      ]
     },
     "execution_count": 610,
     "metadata": {},
     "output_type": "execute_result"
    },
    {
     "data": {
      "image/png": "[encoded data removed]",
      "text/plain": [
       "<Figure size 1440x432 with 1 Axes>"
      ]
     },
     "metadata": {},
     "output_type": "display_data"
    }
   ],
   "source": [
    "# Visualize the data\n",
    "plt.figure(figsize=(20, 6))\n",
    "\n",
    "# Price by room type\n",
    "plt.subplot(1, 3, 1)\n",
    "sns.barplot(x='room_type', y='price', data=dfl_b, palette='viridis')\n",
    "plt.title('Average Price by Room Type')\n",
    "plt.xlabel('Room Type')\n",
    "plt.ylabel('Average Price')"
   ]
  },
  {
   "cell_type": "code",
   "execution_count": 611,
   "id": "0cc76f0c",
   "metadata": {},
   "outputs": [
    {
     "data": {
      "text/plain": [
       "Text(0, 0.5, 'Average Number of Reviews')"
      ]
     },
     "execution_count": 611,
     "metadata": {},
     "output_type": "execute_result"
    },
    {
     "data": {
      "image/png": "[encoded data removed]",
      "text/plain": [
       "<Figure size 576x396 with 1 Axes>"
      ]
     },
     "metadata": {},
     "output_type": "display_data"
    }
   ],
   "source": [
    "# Number of reviews by room type\n",
    "sns.barplot(x='room_type', y='number_of_reviews', data=dfl_b, palette='viridis')\n",
    "plt.title('Average Number of Reviews by Room Type')\n",
    "plt.xlabel('Room Type')\n",
    "plt.ylabel('Average Number of Reviews')"
   ]
  },
  {
   "cell_type": "code",
   "execution_count": 612,
   "id": "c2e808f3",
   "metadata": {},
   "outputs": [
    {
     "data": {
      "text/plain": [
       "Text(0, 0.5, 'Average Minimum Nights')"
      ]
     },
     "execution_count": 612,
     "metadata": {},
     "output_type": "execute_result"
    },
    {
     "data": {
      "image/png": "[encoded data removed]",
      "text/plain": [
       "<Figure size 576x396 with 1 Axes>"
      ]
     },
     "metadata": {},
     "output_type": "display_data"
    }
   ],
   "source": [
    "# Minimum nights by room type\n",
    "sns.barplot(x='room_type', y='minimum_nights', data=dfl_b, palette='viridis')\n",
    "plt.title('Average Minimum Nights by Room Type')\n",
    "plt.xlabel('Room Type')\n",
    "plt.ylabel('Average Minimum Nights')"
   ]
  },
  {
   "cell_type": "code",
   "execution_count": 613,
   "id": "13a54498",
   "metadata": {},
   "outputs": [],
   "source": [
    "# Entire home / appratments are twice as expensive as private and shared rooms and have the biggest minimum number of\n",
    "# nights required. Private and shares rooms are the cheapest and both have 4 as the minimum number of nights "
   ]
  },
  {
   "cell_type": "code",
   "execution_count": null,
   "id": "ef463388",
   "metadata": {},
   "outputs": [],
   "source": []
  },
  {
   "cell_type": "code",
   "execution_count": 614,
   "id": "80ce3730",
   "metadata": {},
   "outputs": [],
   "source": [
    "#Q8 What are the most important predictor variables that determine the number of reviews for a listing ? "
   ]
  },
  {
   "cell_type": "code",
   "execution_count": 615,
   "id": "4cb86b4f",
   "metadata": {},
   "outputs": [],
   "source": [
    "#Part 1 Data cleaning and encoding"
   ]
  },
  {
   "cell_type": "code",
   "execution_count": 616,
   "id": "1fa0ef7f",
   "metadata": {},
   "outputs": [],
   "source": [
    "from xgboost import XGBRegressor\n",
    "from sklearn.model_selection import train_test_split\n",
    "from sklearn.metrics import mean_squared_error\n",
    "from category_encoders import TargetEncoder\n",
    "\n",
    "# Assuming df is your DataFrame\n",
    "dfl_b1 = pd.read_csv(\"listings_brief.csv\")"
   ]
  },
  {
   "cell_type": "code",
   "execution_count": 617,
   "id": "b2e92ce7",
   "metadata": {},
   "outputs": [],
   "source": [
    "# Drop unnecessary variables\n",
    "dfl_b1 = dfl_b1.drop(['id', 'name', 'host_id', 'host_name', 'neighbourhood_group','license'], axis=1)"
   ]
  },
  {
   "cell_type": "code",
   "execution_count": 618,
   "id": "5eceb4c9",
   "metadata": {},
   "outputs": [
    {
     "data": {
      "text/html": [
       "<div>\n",
       "<style scoped>\n",
       "    .dataframe tbody tr th:only-of-type {\n",
       "        vertical-align: middle;\n",
       "    }\n",
       "\n",
       "    .dataframe tbody tr th {\n",
       "        vertical-align: top;\n",
       "    }\n",
       "\n",
       "    .dataframe thead th {\n",
       "        text-align: right;\n",
       "    }\n",
       "</style>\n",
       "<table border=\"1\" class=\"dataframe\">\n",
       "  <thead>\n",
       "    <tr style=\"text-align: right;\">\n",
       "      <th></th>\n",
       "      <th>neighbourhood</th>\n",
       "      <th>latitude</th>\n",
       "      <th>longitude</th>\n",
       "      <th>room_type</th>\n",
       "      <th>price</th>\n",
       "      <th>minimum_nights</th>\n",
       "      <th>number_of_reviews</th>\n",
       "      <th>last_review</th>\n",
       "      <th>reviews_per_month</th>\n",
       "      <th>calculated_host_listings_count</th>\n",
       "      <th>availability_365</th>\n",
       "      <th>number_of_reviews_ltm</th>\n",
       "    </tr>\n",
       "  </thead>\n",
       "  <tbody>\n",
       "    <tr>\n",
       "      <th>0</th>\n",
       "      <td>Islington</td>\n",
       "      <td>51.56861</td>\n",
       "      <td>-0.11270</td>\n",
       "      <td>Private room</td>\n",
       "      <td>79</td>\n",
       "      <td>1</td>\n",
       "      <td>41</td>\n",
       "      <td>2022-12-11</td>\n",
       "      <td>0.26</td>\n",
       "      <td>2</td>\n",
       "      <td>360</td>\n",
       "      <td>11</td>\n",
       "    </tr>\n",
       "    <tr>\n",
       "      <th>1</th>\n",
       "      <td>Kensington and Chelsea</td>\n",
       "      <td>51.48780</td>\n",
       "      <td>-0.16813</td>\n",
       "      <td>Entire home/apt</td>\n",
       "      <td>150</td>\n",
       "      <td>7</td>\n",
       "      <td>94</td>\n",
       "      <td>2023-05-01</td>\n",
       "      <td>0.56</td>\n",
       "      <td>1</td>\n",
       "      <td>73</td>\n",
       "      <td>5</td>\n",
       "    </tr>\n",
       "    <tr>\n",
       "      <th>2</th>\n",
       "      <td>Wandsworth</td>\n",
       "      <td>51.44201</td>\n",
       "      <td>-0.18739</td>\n",
       "      <td>Private room</td>\n",
       "      <td>42</td>\n",
       "      <td>2</td>\n",
       "      <td>216</td>\n",
       "      <td>2022-10-29</td>\n",
       "      <td>1.45</td>\n",
       "      <td>1</td>\n",
       "      <td>217</td>\n",
       "      <td>9</td>\n",
       "    </tr>\n",
       "    <tr>\n",
       "      <th>3</th>\n",
       "      <td>Westminster</td>\n",
       "      <td>51.52195</td>\n",
       "      <td>-0.14094</td>\n",
       "      <td>Entire home/apt</td>\n",
       "      <td>476</td>\n",
       "      <td>3</td>\n",
       "      <td>54</td>\n",
       "      <td>2022-11-19</td>\n",
       "      <td>0.36</td>\n",
       "      <td>9</td>\n",
       "      <td>300</td>\n",
       "      <td>4</td>\n",
       "    </tr>\n",
       "    <tr>\n",
       "      <th>4</th>\n",
       "      <td>Hammersmith and Fulham</td>\n",
       "      <td>51.49993</td>\n",
       "      <td>-0.21707</td>\n",
       "      <td>Entire home/apt</td>\n",
       "      <td>175</td>\n",
       "      <td>5</td>\n",
       "      <td>38</td>\n",
       "      <td>2022-09-30</td>\n",
       "      <td>0.27</td>\n",
       "      <td>1</td>\n",
       "      <td>40</td>\n",
       "      <td>2</td>\n",
       "    </tr>\n",
       "  </tbody>\n",
       "</table>\n",
       "</div>"
      ],
      "text/plain": [
       "            neighbourhood  latitude  longitude        room_type  price  \\\n",
       "0               Islington  51.56861   -0.11270     Private room     79   \n",
       "1  Kensington and Chelsea  51.48780   -0.16813  Entire home/apt    150   \n",
       "2              Wandsworth  51.44201   -0.18739     Private room     42   \n",
       "3             Westminster  51.52195   -0.14094  Entire home/apt    476   \n",
       "4  Hammersmith and Fulham  51.49993   -0.21707  Entire home/apt    175   \n",
       "\n",
       "   minimum_nights  number_of_reviews last_review  reviews_per_month  \\\n",
       "0               1                 41  2022-12-11               0.26   \n",
       "1               7                 94  2023-05-01               0.56   \n",
       "2               2                216  2022-10-29               1.45   \n",
       "3               3                 54  2022-11-19               0.36   \n",
       "4               5                 38  2022-09-30               0.27   \n",
       "\n",
       "   calculated_host_listings_count  availability_365  number_of_reviews_ltm  \n",
       "0                               2               360                     11  \n",
       "1                               1                73                      5  \n",
       "2                               1               217                      9  \n",
       "3                               9               300                      4  \n",
       "4                               1                40                      2  "
      ]
     },
     "execution_count": 618,
     "metadata": {},
     "output_type": "execute_result"
    }
   ],
   "source": [
    "dfl_b1.head()"
   ]
  },
  {
   "cell_type": "code",
   "execution_count": 619,
   "id": "ee2c5527",
   "metadata": {},
   "outputs": [],
   "source": [
    "# Convert 'last_review' column to datetime\n",
    "dfl_b1['last_review'] = pd.to_datetime(dfl_b1['last_review'])\n",
    "\n",
    "# Add a new column for the difference between '2023-09-06' and 'last_review'\n",
    "dfl_b1['days_since_last_review'] = (pd.to_datetime('2023-09-06') - dfl_b1['last_review']).dt.days\n",
    "\n",
    "# Drop the 'last_review' column\n",
    "dfl_b1 = dfl_b1.drop('last_review', axis=1)"
   ]
  },
  {
   "cell_type": "code",
   "execution_count": 620,
   "id": "55ee7dfc",
   "metadata": {},
   "outputs": [
    {
     "name": "stdout",
     "output_type": "stream",
     "text": [
      "Number of Null Values per Column:\n",
      "neighbourhood                         0\n",
      "latitude                              0\n",
      "longitude                             0\n",
      "room_type                             0\n",
      "price                                 0\n",
      "minimum_nights                        0\n",
      "number_of_reviews                     0\n",
      "reviews_per_month                 22158\n",
      "calculated_host_listings_count        0\n",
      "availability_365                      0\n",
      "number_of_reviews_ltm                 0\n",
      "days_since_last_review            22158\n",
      "dtype: int64\n"
     ]
    }
   ],
   "source": [
    "# Find the number of null values per column\n",
    "null_counts = dfl_b1.isnull().sum()\n",
    "\n",
    "# Display the number of null values per column\n",
    "print(\"Number of Null Values per Column:\")\n",
    "print(null_counts)"
   ]
  },
  {
   "cell_type": "code",
   "execution_count": 621,
   "id": "77a70a1d",
   "metadata": {},
   "outputs": [],
   "source": [
    "#Add a feature difference in time between 06 sept 2023 and last review "
   ]
  },
  {
   "cell_type": "code",
   "execution_count": 622,
   "id": "8cce7eb1",
   "metadata": {},
   "outputs": [
    {
     "data": {
      "text/plain": [
       "25.1947195469999"
      ]
     },
     "execution_count": 622,
     "metadata": {},
     "output_type": "execute_result"
    }
   ],
   "source": [
    "# 25% of listings ahve no reviews per month .\n",
    "22158 / len(dfl_b1) * 100"
   ]
  },
  {
   "cell_type": "code",
   "execution_count": 623,
   "id": "aecca0a6",
   "metadata": {},
   "outputs": [],
   "source": [
    "# Delete rows with null values\n",
    "dfl_b1.dropna(inplace = True)"
   ]
  },
  {
   "cell_type": "code",
   "execution_count": 624,
   "id": "64ba74bb",
   "metadata": {},
   "outputs": [],
   "source": [
    "# Target encode string variables\n",
    "encoder = TargetEncoder()\n",
    "dfl_b1[['neighbourhood', 'room_type']] = encoder.fit_transform(dfl_b1[['neighbourhood', 'room_type']], dfl_b1['number_of_reviews'])"
   ]
  },
  {
   "cell_type": "code",
   "execution_count": 625,
   "id": "08a60eed",
   "metadata": {},
   "outputs": [],
   "source": [
    "# Split the data into features (X) and target variable (y)\n",
    "X = dfl_b1.drop('number_of_reviews', axis=1)\n",
    "y = dfl_b1['number_of_reviews']"
   ]
  },
  {
   "cell_type": "code",
   "execution_count": 626,
   "id": "779d821d",
   "metadata": {},
   "outputs": [],
   "source": [
    "# Split the data into training and testing sets\n",
    "X_train, X_test, y_train, y_test = train_test_split(X, y, test_size=0.2, random_state=42)"
   ]
  },
  {
   "cell_type": "code",
   "execution_count": 627,
   "id": "980d872d",
   "metadata": {},
   "outputs": [],
   "source": [
    "# Part 2 appylying the regression"
   ]
  },
  {
   "cell_type": "code",
   "execution_count": 628,
   "id": "100eac46",
   "metadata": {},
   "outputs": [],
   "source": [
    "# Initialize XGBoost regressor\n",
    "model = XGBRegressor()"
   ]
  },
  {
   "cell_type": "code",
   "execution_count": 629,
   "id": "486dd8da",
   "metadata": {},
   "outputs": [
    {
     "data": {
      "text/plain": [
       "XGBRegressor(base_score=None, booster=None, callbacks=None,\n",
       "             colsample_bylevel=None, colsample_bynode=None,\n",
       "             colsample_bytree=None, early_stopping_rounds=None,\n",
       "             enable_categorical=False, eval_metric=None, feature_types=None,\n",
       "             gamma=None, gpu_id=None, grow_policy=None, importance_type=None,\n",
       "             interaction_constraints=None, learning_rate=None, max_bin=None,\n",
       "             max_cat_threshold=None, max_cat_to_onehot=None,\n",
       "             max_delta_step=None, max_depth=None, max_leaves=None,\n",
       "             min_child_weight=None, missing=nan, monotone_constraints=None,\n",
       "             n_estimators=100, n_jobs=None, num_parallel_tree=None,\n",
       "             predictor=None, random_state=None, ...)"
      ]
     },
     "execution_count": 629,
     "metadata": {},
     "output_type": "execute_result"
    }
   ],
   "source": [
    "# Fit the model to the training data\n",
    "model.fit(X_train, y_train)"
   ]
  },
  {
   "cell_type": "code",
   "execution_count": 630,
   "id": "aa93182b",
   "metadata": {},
   "outputs": [],
   "source": [
    "# Make predictions on the test data\n",
    "y_pred = model.predict(X_test)"
   ]
  },
  {
   "cell_type": "code",
   "execution_count": null,
   "id": "8319b965",
   "metadata": {},
   "outputs": [],
   "source": []
  },
  {
   "cell_type": "code",
   "execution_count": null,
   "id": "e15b124a",
   "metadata": {},
   "outputs": [],
   "source": []
  },
  {
   "cell_type": "code",
   "execution_count": 631,
   "id": "56a91d17",
   "metadata": {},
   "outputs": [
    {
     "name": "stdout",
     "output_type": "stream",
     "text": [
      "Mean Squared Error: 807.7975923642689\n"
     ]
    }
   ],
   "source": [
    "# Evaluate the model\n",
    "mse = mean_squared_error(y_test, y_pred)\n",
    "print(\"Mean Squared Error:\", mse)"
   ]
  },
  {
   "cell_type": "code",
   "execution_count": 632,
   "id": "77500d88",
   "metadata": {},
   "outputs": [
    {
     "name": "stdout",
     "output_type": "stream",
     "text": [
      "Mean Absolute Percentage Error (MAPE): 101.32747179496432\n"
     ]
    }
   ],
   "source": [
    "# Calculate MAPE\n",
    "ape = np.abs((y_test - y_pred) / y_test)\n",
    "mape = np.mean(ape) * 100\n",
    "\n",
    "print(\"Mean Absolute Percentage Error (MAPE):\", mape)"
   ]
  },
  {
   "cell_type": "code",
   "execution_count": 633,
   "id": "c4d5b711",
   "metadata": {},
   "outputs": [],
   "source": [
    "# Feature importance\n",
    "feature_importance = model.feature_importances_\n",
    "features = X.columns\n"
   ]
  },
  {
   "cell_type": "code",
   "execution_count": 634,
   "id": "795f73b7",
   "metadata": {},
   "outputs": [
    {
     "name": "stdout",
     "output_type": "stream",
     "text": [
      "Feature Importance:\n",
      "                           Feature  Importance\n",
      "9            number_of_reviews_ltm    0.470368\n",
      "6                reviews_per_month    0.117524\n",
      "10          days_since_last_review    0.091050\n",
      "3                        room_type    0.083666\n",
      "7   calculated_host_listings_count    0.057207\n",
      "2                        longitude    0.043941\n",
      "8                 availability_365    0.032633\n",
      "4                            price    0.029921\n",
      "5                   minimum_nights    0.024944\n",
      "1                         latitude    0.024547\n",
      "0                    neighbourhood    0.024199\n"
     ]
    }
   ],
   "source": [
    "# Display feature importance\n",
    "feature_importance_df = pd.DataFrame({'Feature': features, 'Importance': feature_importance})\n",
    "feature_importance_df = feature_importance_df.sort_values(by='Importance', ascending=False)\n",
    "print(\"Feature Importance:\")\n",
    "print(feature_importance_df)"
   ]
  },
  {
   "cell_type": "code",
   "execution_count": 635,
   "id": "b34d3fde",
   "metadata": {},
   "outputs": [
    {
     "data": {
      "image/png": "[encoded data removed]",
      "text/plain": [
       "<Figure size 720x432 with 1 Axes>"
      ]
     },
     "metadata": {},
     "output_type": "display_data"
    }
   ],
   "source": [
    "# Display feature importance in a bar plot\n",
    "feature_importance_df = pd.DataFrame({'Feature': features, 'Importance': feature_importance})\n",
    "feature_importance_df = feature_importance_df.sort_values(by='Importance', ascending=False)\n",
    "\n",
    "plt.figure(figsize=(10, 6))\n",
    "sns.barplot(x='Importance', y='Feature', data=feature_importance_df, palette='viridis')\n",
    "plt.title('Feature Importance')\n",
    "plt.show()"
   ]
  },
  {
   "cell_type": "code",
   "execution_count": null,
   "id": "c417fcf5",
   "metadata": {},
   "outputs": [],
   "source": []
  },
  {
   "cell_type": "code",
   "execution_count": 636,
   "id": "0fb6fc6e",
   "metadata": {},
   "outputs": [],
   "source": [
    "# This gives us the most importna features on which the number of reviews of a listing depend on\n",
    "# Please note I've used XGBoost as it is due to paucity of time. But it can be optimized a great deal by hyperparamter\n",
    "# tuning, more feature engineering and the loss brought down and then a more accurate feature importance graph can be shown.\n",
    "\n",
    "#I used XGboost but LightGBM and bagging could also have been used"
   ]
  },
  {
   "cell_type": "code",
   "execution_count": null,
   "id": "3be3faa1",
   "metadata": {},
   "outputs": [],
   "source": []
  },
  {
   "cell_type": "code",
   "execution_count": 637,
   "id": "97bb7dcf",
   "metadata": {},
   "outputs": [],
   "source": [
    "#Q9 Find any correaltions that you can from the reviews dataset ?"
   ]
  },
  {
   "cell_type": "code",
   "execution_count": 638,
   "id": "89644389",
   "metadata": {},
   "outputs": [],
   "source": [
    "#Part 1"
   ]
  },
  {
   "cell_type": "code",
   "execution_count": 639,
   "id": "e49b728f",
   "metadata": {},
   "outputs": [
    {
     "data": {
      "text/html": [
       "<div>\n",
       "<style scoped>\n",
       "    .dataframe tbody tr th:only-of-type {\n",
       "        vertical-align: middle;\n",
       "    }\n",
       "\n",
       "    .dataframe tbody tr th {\n",
       "        vertical-align: top;\n",
       "    }\n",
       "\n",
       "    .dataframe thead th {\n",
       "        text-align: right;\n",
       "    }\n",
       "</style>\n",
       "<table border=\"1\" class=\"dataframe\">\n",
       "  <thead>\n",
       "    <tr style=\"text-align: right;\">\n",
       "      <th></th>\n",
       "      <th>id</th>\n",
       "      <th>name</th>\n",
       "      <th>host_id</th>\n",
       "      <th>host_name</th>\n",
       "      <th>neighbourhood_group</th>\n",
       "      <th>neighbourhood</th>\n",
       "      <th>latitude</th>\n",
       "      <th>longitude</th>\n",
       "      <th>room_type</th>\n",
       "      <th>price</th>\n",
       "      <th>minimum_nights</th>\n",
       "      <th>number_of_reviews</th>\n",
       "      <th>last_review</th>\n",
       "      <th>reviews_per_month</th>\n",
       "      <th>calculated_host_listings_count</th>\n",
       "      <th>availability_365</th>\n",
       "      <th>number_of_reviews_ltm</th>\n",
       "      <th>license</th>\n",
       "    </tr>\n",
       "  </thead>\n",
       "  <tbody>\n",
       "    <tr>\n",
       "      <th>0</th>\n",
       "      <td>13913</td>\n",
       "      <td>Rental unit in Islington · ★4.80 · 1 bedroom ·...</td>\n",
       "      <td>54730</td>\n",
       "      <td>Alina</td>\n",
       "      <td>NaN</td>\n",
       "      <td>Islington</td>\n",
       "      <td>51.56861</td>\n",
       "      <td>-0.11270</td>\n",
       "      <td>Private room</td>\n",
       "      <td>79</td>\n",
       "      <td>1</td>\n",
       "      <td>41</td>\n",
       "      <td>2022-12-11</td>\n",
       "      <td>0.26</td>\n",
       "      <td>2</td>\n",
       "      <td>360</td>\n",
       "      <td>11</td>\n",
       "      <td>NaN</td>\n",
       "    </tr>\n",
       "    <tr>\n",
       "      <th>1</th>\n",
       "      <td>15400</td>\n",
       "      <td>Rental unit in London · ★4.80 · 1 bedroom · 1 ...</td>\n",
       "      <td>60302</td>\n",
       "      <td>Philippa</td>\n",
       "      <td>NaN</td>\n",
       "      <td>Kensington and Chelsea</td>\n",
       "      <td>51.48780</td>\n",
       "      <td>-0.16813</td>\n",
       "      <td>Entire home/apt</td>\n",
       "      <td>150</td>\n",
       "      <td>7</td>\n",
       "      <td>94</td>\n",
       "      <td>2023-05-01</td>\n",
       "      <td>0.56</td>\n",
       "      <td>1</td>\n",
       "      <td>73</td>\n",
       "      <td>5</td>\n",
       "      <td>NaN</td>\n",
       "    </tr>\n",
       "    <tr>\n",
       "      <th>2</th>\n",
       "      <td>92644</td>\n",
       "      <td>Rental unit in Earlsfield · ★4.57 · 1 bedroom ...</td>\n",
       "      <td>498201</td>\n",
       "      <td>Dee Dee</td>\n",
       "      <td>NaN</td>\n",
       "      <td>Wandsworth</td>\n",
       "      <td>51.44201</td>\n",
       "      <td>-0.18739</td>\n",
       "      <td>Private room</td>\n",
       "      <td>42</td>\n",
       "      <td>2</td>\n",
       "      <td>216</td>\n",
       "      <td>2022-10-29</td>\n",
       "      <td>1.45</td>\n",
       "      <td>1</td>\n",
       "      <td>217</td>\n",
       "      <td>9</td>\n",
       "      <td>NaN</td>\n",
       "    </tr>\n",
       "    <tr>\n",
       "      <th>3</th>\n",
       "      <td>17402</td>\n",
       "      <td>Rental unit in London · ★4.76 · 3 bedrooms · 3...</td>\n",
       "      <td>67564</td>\n",
       "      <td>Liz</td>\n",
       "      <td>NaN</td>\n",
       "      <td>Westminster</td>\n",
       "      <td>51.52195</td>\n",
       "      <td>-0.14094</td>\n",
       "      <td>Entire home/apt</td>\n",
       "      <td>476</td>\n",
       "      <td>3</td>\n",
       "      <td>54</td>\n",
       "      <td>2022-11-19</td>\n",
       "      <td>0.36</td>\n",
       "      <td>9</td>\n",
       "      <td>300</td>\n",
       "      <td>4</td>\n",
       "      <td>NaN</td>\n",
       "    </tr>\n",
       "    <tr>\n",
       "      <th>4</th>\n",
       "      <td>93015</td>\n",
       "      <td>Rental unit in Hammersmith · ★4.82 · 2 bedroom...</td>\n",
       "      <td>499704</td>\n",
       "      <td>Sarah</td>\n",
       "      <td>NaN</td>\n",
       "      <td>Hammersmith and Fulham</td>\n",
       "      <td>51.49993</td>\n",
       "      <td>-0.21707</td>\n",
       "      <td>Entire home/apt</td>\n",
       "      <td>175</td>\n",
       "      <td>5</td>\n",
       "      <td>38</td>\n",
       "      <td>2022-09-30</td>\n",
       "      <td>0.27</td>\n",
       "      <td>1</td>\n",
       "      <td>40</td>\n",
       "      <td>2</td>\n",
       "      <td>NaN</td>\n",
       "    </tr>\n",
       "  </tbody>\n",
       "</table>\n",
       "</div>"
      ],
      "text/plain": [
       "      id                                               name  host_id  \\\n",
       "0  13913  Rental unit in Islington · ★4.80 · 1 bedroom ·...    54730   \n",
       "1  15400  Rental unit in London · ★4.80 · 1 bedroom · 1 ...    60302   \n",
       "2  92644  Rental unit in Earlsfield · ★4.57 · 1 bedroom ...   498201   \n",
       "3  17402  Rental unit in London · ★4.76 · 3 bedrooms · 3...    67564   \n",
       "4  93015  Rental unit in Hammersmith · ★4.82 · 2 bedroom...   499704   \n",
       "\n",
       "  host_name  neighbourhood_group           neighbourhood  latitude  longitude  \\\n",
       "0     Alina                  NaN               Islington  51.56861   -0.11270   \n",
       "1  Philippa                  NaN  Kensington and Chelsea  51.48780   -0.16813   \n",
       "2   Dee Dee                  NaN              Wandsworth  51.44201   -0.18739   \n",
       "3       Liz                  NaN             Westminster  51.52195   -0.14094   \n",
       "4     Sarah                  NaN  Hammersmith and Fulham  51.49993   -0.21707   \n",
       "\n",
       "         room_type  price  minimum_nights  number_of_reviews last_review  \\\n",
       "0     Private room     79               1                 41  2022-12-11   \n",
       "1  Entire home/apt    150               7                 94  2023-05-01   \n",
       "2     Private room     42               2                216  2022-10-29   \n",
       "3  Entire home/apt    476               3                 54  2022-11-19   \n",
       "4  Entire home/apt    175               5                 38  2022-09-30   \n",
       "\n",
       "   reviews_per_month  calculated_host_listings_count  availability_365  \\\n",
       "0               0.26                               2               360   \n",
       "1               0.56                               1                73   \n",
       "2               1.45                               1               217   \n",
       "3               0.36                               9               300   \n",
       "4               0.27                               1                40   \n",
       "\n",
       "   number_of_reviews_ltm license  \n",
       "0                     11     NaN  \n",
       "1                      5     NaN  \n",
       "2                      9     NaN  \n",
       "3                      4     NaN  \n",
       "4                      2     NaN  "
      ]
     },
     "execution_count": 639,
     "metadata": {},
     "output_type": "execute_result"
    }
   ],
   "source": [
    "dfl_b.head()"
   ]
  },
  {
   "cell_type": "code",
   "execution_count": 640,
   "id": "c54f7cb4",
   "metadata": {},
   "outputs": [],
   "source": [
    "dfl_br = dfl_b.drop(['id','host_id','neighbourhood_group','license'], axis=1)"
   ]
  },
  {
   "cell_type": "code",
   "execution_count": 641,
   "id": "b78a2bf9",
   "metadata": {},
   "outputs": [
    {
     "data": {
      "text/html": [
       "<div>\n",
       "<style scoped>\n",
       "    .dataframe tbody tr th:only-of-type {\n",
       "        vertical-align: middle;\n",
       "    }\n",
       "\n",
       "    .dataframe tbody tr th {\n",
       "        vertical-align: top;\n",
       "    }\n",
       "\n",
       "    .dataframe thead th {\n",
       "        text-align: right;\n",
       "    }\n",
       "</style>\n",
       "<table border=\"1\" class=\"dataframe\">\n",
       "  <thead>\n",
       "    <tr style=\"text-align: right;\">\n",
       "      <th></th>\n",
       "      <th>name</th>\n",
       "      <th>host_name</th>\n",
       "      <th>neighbourhood</th>\n",
       "      <th>latitude</th>\n",
       "      <th>longitude</th>\n",
       "      <th>room_type</th>\n",
       "      <th>price</th>\n",
       "      <th>minimum_nights</th>\n",
       "      <th>number_of_reviews</th>\n",
       "      <th>last_review</th>\n",
       "      <th>reviews_per_month</th>\n",
       "      <th>calculated_host_listings_count</th>\n",
       "      <th>availability_365</th>\n",
       "      <th>number_of_reviews_ltm</th>\n",
       "    </tr>\n",
       "  </thead>\n",
       "  <tbody>\n",
       "    <tr>\n",
       "      <th>0</th>\n",
       "      <td>Rental unit in Islington · ★4.80 · 1 bedroom ·...</td>\n",
       "      <td>Alina</td>\n",
       "      <td>Islington</td>\n",
       "      <td>51.56861</td>\n",
       "      <td>-0.11270</td>\n",
       "      <td>Private room</td>\n",
       "      <td>79</td>\n",
       "      <td>1</td>\n",
       "      <td>41</td>\n",
       "      <td>2022-12-11</td>\n",
       "      <td>0.26</td>\n",
       "      <td>2</td>\n",
       "      <td>360</td>\n",
       "      <td>11</td>\n",
       "    </tr>\n",
       "    <tr>\n",
       "      <th>1</th>\n",
       "      <td>Rental unit in London · ★4.80 · 1 bedroom · 1 ...</td>\n",
       "      <td>Philippa</td>\n",
       "      <td>Kensington and Chelsea</td>\n",
       "      <td>51.48780</td>\n",
       "      <td>-0.16813</td>\n",
       "      <td>Entire home/apt</td>\n",
       "      <td>150</td>\n",
       "      <td>7</td>\n",
       "      <td>94</td>\n",
       "      <td>2023-05-01</td>\n",
       "      <td>0.56</td>\n",
       "      <td>1</td>\n",
       "      <td>73</td>\n",
       "      <td>5</td>\n",
       "    </tr>\n",
       "    <tr>\n",
       "      <th>2</th>\n",
       "      <td>Rental unit in Earlsfield · ★4.57 · 1 bedroom ...</td>\n",
       "      <td>Dee Dee</td>\n",
       "      <td>Wandsworth</td>\n",
       "      <td>51.44201</td>\n",
       "      <td>-0.18739</td>\n",
       "      <td>Private room</td>\n",
       "      <td>42</td>\n",
       "      <td>2</td>\n",
       "      <td>216</td>\n",
       "      <td>2022-10-29</td>\n",
       "      <td>1.45</td>\n",
       "      <td>1</td>\n",
       "      <td>217</td>\n",
       "      <td>9</td>\n",
       "    </tr>\n",
       "    <tr>\n",
       "      <th>3</th>\n",
       "      <td>Rental unit in London · ★4.76 · 3 bedrooms · 3...</td>\n",
       "      <td>Liz</td>\n",
       "      <td>Westminster</td>\n",
       "      <td>51.52195</td>\n",
       "      <td>-0.14094</td>\n",
       "      <td>Entire home/apt</td>\n",
       "      <td>476</td>\n",
       "      <td>3</td>\n",
       "      <td>54</td>\n",
       "      <td>2022-11-19</td>\n",
       "      <td>0.36</td>\n",
       "      <td>9</td>\n",
       "      <td>300</td>\n",
       "      <td>4</td>\n",
       "    </tr>\n",
       "    <tr>\n",
       "      <th>4</th>\n",
       "      <td>Rental unit in Hammersmith · ★4.82 · 2 bedroom...</td>\n",
       "      <td>Sarah</td>\n",
       "      <td>Hammersmith and Fulham</td>\n",
       "      <td>51.49993</td>\n",
       "      <td>-0.21707</td>\n",
       "      <td>Entire home/apt</td>\n",
       "      <td>175</td>\n",
       "      <td>5</td>\n",
       "      <td>38</td>\n",
       "      <td>2022-09-30</td>\n",
       "      <td>0.27</td>\n",
       "      <td>1</td>\n",
       "      <td>40</td>\n",
       "      <td>2</td>\n",
       "    </tr>\n",
       "  </tbody>\n",
       "</table>\n",
       "</div>"
      ],
      "text/plain": [
       "                                                name host_name  \\\n",
       "0  Rental unit in Islington · ★4.80 · 1 bedroom ·...     Alina   \n",
       "1  Rental unit in London · ★4.80 · 1 bedroom · 1 ...  Philippa   \n",
       "2  Rental unit in Earlsfield · ★4.57 · 1 bedroom ...   Dee Dee   \n",
       "3  Rental unit in London · ★4.76 · 3 bedrooms · 3...       Liz   \n",
       "4  Rental unit in Hammersmith · ★4.82 · 2 bedroom...     Sarah   \n",
       "\n",
       "            neighbourhood  latitude  longitude        room_type  price  \\\n",
       "0               Islington  51.56861   -0.11270     Private room     79   \n",
       "1  Kensington and Chelsea  51.48780   -0.16813  Entire home/apt    150   \n",
       "2              Wandsworth  51.44201   -0.18739     Private room     42   \n",
       "3             Westminster  51.52195   -0.14094  Entire home/apt    476   \n",
       "4  Hammersmith and Fulham  51.49993   -0.21707  Entire home/apt    175   \n",
       "\n",
       "   minimum_nights  number_of_reviews last_review  reviews_per_month  \\\n",
       "0               1                 41  2022-12-11               0.26   \n",
       "1               7                 94  2023-05-01               0.56   \n",
       "2               2                216  2022-10-29               1.45   \n",
       "3               3                 54  2022-11-19               0.36   \n",
       "4               5                 38  2022-09-30               0.27   \n",
       "\n",
       "   calculated_host_listings_count  availability_365  number_of_reviews_ltm  \n",
       "0                               2               360                     11  \n",
       "1                               1                73                      5  \n",
       "2                               1               217                      9  \n",
       "3                               9               300                      4  \n",
       "4                               1                40                      2  "
      ]
     },
     "execution_count": 641,
     "metadata": {},
     "output_type": "execute_result"
    }
   ],
   "source": [
    "dfl_br.head(5)"
   ]
  },
  {
   "cell_type": "code",
   "execution_count": 642,
   "id": "8b6e8d22",
   "metadata": {},
   "outputs": [],
   "source": [
    "#Part 2"
   ]
  },
  {
   "cell_type": "code",
   "execution_count": 643,
   "id": "833e87fe",
   "metadata": {},
   "outputs": [
    {
     "name": "stdout",
     "output_type": "stream",
     "text": [
      "latitude - Normality Test: Not Normally Distributed\n",
      "longitude - Normality Test: Not Normally Distributed\n",
      "price - Normality Test: Not Normally Distributed\n",
      "minimum_nights - Normality Test: Not Normally Distributed\n",
      "number_of_reviews - Normality Test: Not Normally Distributed\n",
      "reviews_per_month - Normality Test: Not Normally Distributed\n",
      "calculated_host_listings_count - Normality Test: Not Normally Distributed\n",
      "availability_365 - Normality Test: Not Normally Distributed\n",
      "number_of_reviews_ltm - Normality Test: Not Normally Distributed\n"
     ]
    }
   ],
   "source": [
    "#Check if the numerical columns of interest are nornmally distributed or not ?\n",
    "\n",
    "\n",
    "from scipy.stats import normaltest\n",
    "# Extract numerical columns\n",
    "numerical_columns = dfl_br.select_dtypes(include=['float64', 'int64']).columns\n",
    "\n",
    "# Check for normal distribution\n",
    "for col in numerical_columns:\n",
    "    stat, p_value = normaltest(dfl_br[col])\n",
    "    print(f\"{col} - Normality Test: {'Normally Distributed' if p_value > 0.05 else 'Not Normally Distributed'}\")"
   ]
  },
  {
   "cell_type": "code",
   "execution_count": 644,
   "id": "7bc84c83",
   "metadata": {},
   "outputs": [
    {
     "data": {
      "text/plain": [
       "<AxesSubplot:>"
      ]
     },
     "execution_count": 644,
     "metadata": {},
     "output_type": "execute_result"
    },
    {
     "data": {
      "image/png": "[encoded data removed]",
      "text/plain": [
       "<Figure size 720x720 with 2 Axes>"
      ]
     },
     "metadata": {},
     "output_type": "display_data"
    }
   ],
   "source": [
    "#As most columns are not mumerically dsitributed so we use spearman correlation\n",
    "\n",
    "fig, ax = plt.subplots(figsize=(10, 10))\n",
    "Var_Corr = dfl_br.corr(method = 'spearman')\n",
    "sns.heatmap(Var_Corr, xticklabels=Var_Corr.columns, yticklabels=Var_Corr.columns, annot=True, ax=ax)\n"
   ]
  },
  {
   "cell_type": "code",
   "execution_count": 645,
   "id": "bd15449c",
   "metadata": {},
   "outputs": [],
   "source": [
    "#Strong correaltion : 1) reviews per month and number of review ltm\n",
    "#                     2) number of reviews number of reviews ltm"
   ]
  },
  {
   "cell_type": "code",
   "execution_count": 646,
   "id": "c7a4568f",
   "metadata": {},
   "outputs": [],
   "source": [
    "#Moderate correaltion : 1) reviews per month and availability 365\n",
    "#                       2) reviews per month and number of reviews\n",
    "#                       3) calculated host listing count and availability 365"
   ]
  },
  {
   "cell_type": "code",
   "execution_count": 647,
   "id": "3472bca9",
   "metadata": {},
   "outputs": [],
   "source": [
    "# We find a lot of weak postiive and negative correlations"
   ]
  },
  {
   "cell_type": "code",
   "execution_count": null,
   "id": "86d7a9f5",
   "metadata": {},
   "outputs": [],
   "source": []
  },
  {
   "cell_type": "code",
   "execution_count": 648,
   "id": "96501bab",
   "metadata": {},
   "outputs": [],
   "source": [
    "#Q10 Given a budget threshold for a guest find the best neighborhoods that are in that budget and also have high reviews?\n",
    "# Within each such neighborhood also give some information about the hosts fulfilling the budget criteria. "
   ]
  },
  {
   "cell_type": "code",
   "execution_count": 649,
   "id": "6ba6f3ca",
   "metadata": {},
   "outputs": [],
   "source": [
    "#Part 2"
   ]
  },
  {
   "cell_type": "code",
   "execution_count": 650,
   "id": "8668be77",
   "metadata": {},
   "outputs": [
    {
     "name": "stdout",
     "output_type": "stream",
     "text": [
      "Neighborhoods that are affordable and have high number of reviews:\n",
      "{'Greenwich', 'Bromley', 'Lewisham', 'Sutton', 'Bexley', 'Havering', 'Redbridge', 'Waltham Forest', 'Ealing', 'Enfield', 'Haringey', 'Hackney', 'Hillingdon', 'Kingston upon Thames', 'Harrow', 'Tower Hamlets', 'Lambeth', 'Croydon'}\n"
     ]
    }
   ],
   "source": [
    "# Define affordability based on average price\n",
    "affordable_threshold = 150  # Adjust this threshold based on your definition of affordability\n",
    "\n",
    "# Filter neighborhoods with average price below the threshold\n",
    "affordable_neighborhoods = dfl_b.groupby('neighbourhood')['price'].mean().loc[lambda x: x < affordable_threshold].index\n",
    "\n",
    "# Filter neighborhoods with a high number of reviews.. at least 100 reviews we use in this case\n",
    "high_review_neighborhoods = dfl_b.groupby('neighbourhood')['number_of_reviews'].sum().loc[lambda x: x > 100].index\n",
    "\n",
    "# Find neighborhoods that satisfy both criteria\n",
    "selected_neighborhoods = set(affordable_neighborhoods) & set(high_review_neighborhoods)\n",
    "\n",
    "\n",
    "# Display the selected neighborhoods\n",
    "print(\"Neighborhoods that are affordable and have high number of reviews:\")\n",
    "print(selected_neighborhoods)"
   ]
  },
  {
   "cell_type": "code",
   "execution_count": 651,
   "id": "76ab8016",
   "metadata": {},
   "outputs": [
    {
     "name": "stdout",
     "output_type": "stream",
     "text": [
      "Listings within the selected neighborhoods and affordability threshold:\n",
      "                       id                                               name  \\\n",
      "5                   93734  Condo in London · ★4.62 · 1 bedroom · 1 bed · ...   \n",
      "9                   94138  Rental unit in Poplar · ★4.85 · 1 bedroom · 1 ...   \n",
      "11                  94662  Rental unit in Lewisham · ★4.90 · 2 bedrooms ·...   \n",
      "14                  97506  Rental unit in Lambeth · ★4.86 · 1 bedroom · 1...   \n",
      "15                  34935  Rental unit in Greater London · ★4.54 · 1 bedr...   \n",
      "...                   ...                                                ...   \n",
      "87919  973323941642692458  Rental unit in Greater London · ★New · 1 bedro...   \n",
      "87921  973327806433458614  Rental unit in Greater London · ★New · 1 bedro...   \n",
      "87925  973351809301194761  Rental unit in Greater London · ★New · 1 bedro...   \n",
      "87926  973353424429140696  Rental unit in Greater London · ★New · 1 bedro...   \n",
      "87930  973448499788404098  Rental unit in Greater London · ★New · 1 bedro...   \n",
      "\n",
      "       neighbourhood        room_type  price  minimum_nights  \\\n",
      "5          Greenwich     Private room     46               4   \n",
      "9      Tower Hamlets  Entire home/apt     75               2   \n",
      "11          Lewisham  Entire home/apt    120               3   \n",
      "14           Lambeth     Private room     35               2   \n",
      "15     Tower Hamlets  Entire home/apt    106               2   \n",
      "...              ...              ...    ...             ...   \n",
      "87919  Tower Hamlets     Private room     43               1   \n",
      "87921  Tower Hamlets     Private room     49               1   \n",
      "87925        Lambeth  Entire home/apt    106              10   \n",
      "87926  Tower Hamlets  Entire home/apt     86               2   \n",
      "87930        Bromley     Private room     40               1   \n",
      "\n",
      "       number_of_reviews  \n",
      "5                    180  \n",
      "9                     42  \n",
      "11                   114  \n",
      "14                    33  \n",
      "15                   119  \n",
      "...                  ...  \n",
      "87919                  0  \n",
      "87921                  0  \n",
      "87925                  0  \n",
      "87926                  0  \n",
      "87930                  0  \n",
      "\n",
      "[27113 rows x 7 columns]\n"
     ]
    }
   ],
   "source": [
    "# Filter listings within the selected neighborhoods and affordability threshold\n",
    "selected_listings = dfl_b.loc[(dfl_b['neighbourhood'].isin(selected_neighborhoods)) & (dfl_b['price'] < affordable_threshold)]\n",
    "\n",
    "# Display information about the selected listings\n",
    "print(\"Listings within the selected neighborhoods and affordability threshold:\")\n",
    "print(selected_listings[['id', 'name','neighbourhood', 'room_type', 'price', 'minimum_nights', 'number_of_reviews']])"
   ]
  },
  {
   "cell_type": "code",
   "execution_count": null,
   "id": "582647fe",
   "metadata": {},
   "outputs": [],
   "source": []
  },
  {
   "cell_type": "code",
   "execution_count": null,
   "id": "c87781e0",
   "metadata": {},
   "outputs": [],
   "source": []
  },
  {
   "cell_type": "code",
   "execution_count": null,
   "id": "2609650b",
   "metadata": {},
   "outputs": [],
   "source": []
  },
  {
   "cell_type": "code",
   "execution_count": null,
   "id": "15801909",
   "metadata": {},
   "outputs": [],
   "source": []
  },
  {
   "cell_type": "code",
   "execution_count": null,
   "id": "ac9ee8fb",
   "metadata": {},
   "outputs": [],
   "source": []
  }
 ],
 "metadata": {
  "kernelspec": {
   "display_name": "Python 3 (ipykernel)",
   "language": "python",
   "name": "python3"
  },
  "language_info": {
   "codemirror_mode": {
    "name": "ipython",
    "version": 3
   },
   "file_extension": ".py",
   "mimetype": "text/x-python",
   "name": "python",
   "nbconvert_exporter": "python",
   "pygments_lexer": "ipython3",
   "version": "3.9.12"
  }
 },
 "nbformat": 4,
 "nbformat_minor": 5
}
